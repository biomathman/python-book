{
 "cells": [
  {
   "cell_type": "markdown",
   "metadata": {},
   "source": [
    "# Sorting\n",
    "\n",
    "Examples from Chapter 20 of <i>Scientific Computation for Hackers: Python and the Jupyter Shell</i>\n",
    "\n",
    "GPL license."
   ]
  },
  {
   "cell_type": "code",
   "execution_count": 2,
   "metadata": {},
   "outputs": [
    {
     "name": "stdout",
     "output_type": "stream",
     "text": [
      "[-67, -50, -12, 44, 44, 57, 63, 79, 91, 94]\n"
     ]
    }
   ],
   "source": [
    "y = [57, 91, -50, 79, 63, 94, 44, -67, 44, -12]\n",
    "y.sort()\n",
    "print(y)"
   ]
  },
  {
   "cell_type": "code",
   "execution_count": 3,
   "metadata": {},
   "outputs": [
    {
     "name": "stdout",
     "output_type": "stream",
     "text": [
      "[94, 91, 79, 63, 57, 44, 44, -12, -50, -67]\n"
     ]
    }
   ],
   "source": [
    "y = [57, 91, -50, 79, 63, 94, 44, -67, 44, -12]\n",
    "y.sort(reverse=True)\n",
    "print(y)"
   ]
  },
  {
   "cell_type": "code",
   "execution_count": 4,
   "metadata": {},
   "outputs": [
    {
     "name": "stdout",
     "output_type": "stream",
     "text": [
      "[-12, 44, 44, -50, 57, 63, -67, 79, 91, 94]\n"
     ]
    }
   ],
   "source": [
    "y = [57, 91, -50, 79, 63, 94, 44, -67, 44, -12]\n",
    "y.sort(key=abs)\n",
    "print(y)"
   ]
  },
  {
   "cell_type": "code",
   "execution_count": 6,
   "metadata": {},
   "outputs": [
    {
     "name": "stdout",
     "output_type": "stream",
     "text": [
      "[('Dick', 21, 12), ('Harry', 19, 6), ('tom', 23, 8)]\n"
     ]
    }
   ],
   "source": [
    "y=[(\"tom\", 23, 8), (\"Dick\", 21, 12), (\"Harry\", 19, 6)]\n",
    "y.sort()\n",
    "print(y)"
   ]
  },
  {
   "cell_type": "code",
   "execution_count": 7,
   "metadata": {},
   "outputs": [
    {
     "name": "stdout",
     "output_type": "stream",
     "text": [
      "[('Harry', 19, 6), ('tom', 23, 8), ('Dick', 21, 12)]\n"
     ]
    }
   ],
   "source": [
    "y=[(\"tom\", 23, 8), (\"Dick\", 21, 12), (\"Harry\", 19, 6)]\n",
    "y.sort(key=lambda x: x[2])\n",
    "print(y)"
   ]
  },
  {
   "cell_type": "code",
   "execution_count": 8,
   "metadata": {},
   "outputs": [
    {
     "name": "stdout",
     "output_type": "stream",
     "text": [
      "[('Harry', 19, 6), ('tom', 23, 8), ('Dick', 21, 12)]\n"
     ]
    }
   ],
   "source": [
    "def two(x):\n",
    "    return x[2]\n",
    "y=[(\"tom\", 23, 8), (\"Dick\", 21, 12), (\"Harry\", 19, 6)]\n",
    "y.sort(key=two)\n",
    "print(y)"
   ]
  },
  {
   "cell_type": "code",
   "execution_count": 9,
   "metadata": {
    "scrolled": true
   },
   "outputs": [
    {
     "data": {
      "text/plain": [
       "[('Dick', 21, 12), ('Harry', 19, 6), ('tom', 23, 8)]"
      ]
     },
     "execution_count": 9,
     "metadata": {},
     "output_type": "execute_result"
    }
   ],
   "source": [
    "sorted([(\"tom\", 23, 8), (\"Dick\", 21, 12), (\"Harry\", 19, 6)])"
   ]
  },
  {
   "cell_type": "code",
   "execution_count": 10,
   "metadata": {},
   "outputs": [
    {
     "data": {
      "text/plain": [
       "[('Harry', 19, 6), ('tom', 23, 8), ('Dick', 21, 12)]"
      ]
     },
     "execution_count": 10,
     "metadata": {},
     "output_type": "execute_result"
    }
   ],
   "source": [
    "sorted([(\"tom\", 23, 8), (\"Dick\", 21, 12), (\"Harry\", 19, 6)],\n",
    "      key=two)"
   ]
  },
  {
   "cell_type": "code",
   "execution_count": null,
   "metadata": {},
   "outputs": [],
   "source": []
  }
 ],
 "metadata": {
  "kernelspec": {
   "display_name": "Python 3",
   "language": "python",
   "name": "python3"
  },
  "language_info": {
   "codemirror_mode": {
    "name": "ipython",
    "version": 3
   },
   "file_extension": ".py",
   "mimetype": "text/x-python",
   "name": "python",
   "nbconvert_exporter": "python",
   "pygments_lexer": "ipython3",
   "version": "3.6.5"
  }
 },
 "nbformat": 4,
 "nbformat_minor": 2
}
