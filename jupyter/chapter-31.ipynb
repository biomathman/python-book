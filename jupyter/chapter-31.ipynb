{
 "cells": [
  {
   "cell_type": "markdown",
   "metadata": {},
   "source": [
    "# Random Numbers\n",
    "\n",
    "Examples from Chapter 31 of <i>Scientific Computation for Hackers: Python and the Jupyter Shell</i>\n",
    "\n",
    "GPL license. "
   ]
  },
  {
   "cell_type": "code",
   "execution_count": 2,
   "metadata": {},
   "outputs": [
    {
     "name": "stdout",
     "output_type": "stream",
     "text": [
      "97 0.7743522831802218\n",
      "33 0.0053808071904244414\n",
      "90 0.325001507472357\n",
      "78 0.9998195514885009\n",
      "61 0.5998323161722341\n"
     ]
    }
   ],
   "source": [
    "import random\n",
    "random.seed(\"spam\")\n",
    "for j in range(5):\n",
    "    print (random.randint(0,100), random.random())"
   ]
  },
  {
   "cell_type": "code",
   "execution_count": 15,
   "metadata": {},
   "outputs": [
    {
     "data": {
      "image/png": "[encoded data removed]",
      "text/plain": [
       "<matplotlib.figure.Figure at 0x7f3e8e67de80>"
      ]
     },
     "metadata": {},
     "output_type": "display_data"
    }
   ],
   "source": [
    "import matplotlib.pyplot as plt\n",
    "import numpy as np\n",
    "%matplotlib inline\n",
    "fig,(axleft,axright)=plt.subplots(nrows=1,ncols=2);\n",
    "axleft.hist([random.random() for j in range(1000)],\\\n",
    "    bins=10, color=\"white\", edgecolor=\"black\")\n",
    "axright.hist([random.expovariate(1) for j in range(1000)], \\\n",
    "    bins=np.linspace(0,5,11), color=\"white\",edgecolor=\"black\")\n",
    "fig.set_size_inches(10,3)"
   ]
  },
  {
   "cell_type": "code",
   "execution_count": 16,
   "metadata": {},
   "outputs": [],
   "source": [
    "mymarbles=['orange', 'purple', 'red', 'clear', 'green', \n",
    "           'yellow', 'purple', 'green', 'blue', 'red', \n",
    "           'brown', 'black', 'purple', 'purple', 'clear', \n",
    "           'orange', 'clear', 'black', 'black', 'clear', \n",
    "           'orange', 'blue', 'white', 'orange', 'clear']"
   ]
  },
  {
   "cell_type": "code",
   "execution_count": 20,
   "metadata": {},
   "outputs": [],
   "source": [
    "n=len(mymarbles)\n",
    "exact = float(mymarbles.count('clear')+\n",
    "    mymarbles.count('red'))/n"
   ]
  },
  {
   "cell_type": "code",
   "execution_count": 23,
   "metadata": {},
   "outputs": [
    {
     "name": "stdout",
     "output_type": "stream",
     "text": [
      "approximate =  0.276  exact = 0.28\n"
     ]
    }
   ],
   "source": [
    "number_of_successes=0\n",
    "number_of_attempts=500\n",
    "for j in range(number_of_attempts):\n",
    "    marble=random.choice(mymarbles)\n",
    "    if marble=='clear' or marble=='red':\n",
    "        number_of_successes+=1\n",
    "approximate = number_of_successes/number_of_attempts\n",
    "print(\"approximate = \", approximate, \" exact =\", exact)"
   ]
  },
  {
   "cell_type": "code",
   "execution_count": 24,
   "metadata": {},
   "outputs": [],
   "source": [
    "color = [\"Roger Red\", \"Bawdy Blue\", \"Goofy Green\", \"Yummy Yellow\"]"
   ]
  },
  {
   "cell_type": "code",
   "execution_count": 25,
   "metadata": {},
   "outputs": [
    {
     "name": "stdout",
     "output_type": "stream",
     "text": [
      "['Bawdy Blue', 'Yummy Yellow', 'Roger Red', 'Yummy Yellow', 'Bawdy Blue', 'Roger Red', 'Goofy Green', 'Bawdy Blue', 'Bawdy Blue', 'Roger Red']\n"
     ]
    }
   ],
   "source": [
    "candy = [random.choice(color) for j in range(10)]\n",
    "print(candy)"
   ]
  },
  {
   "cell_type": "code",
   "execution_count": 26,
   "metadata": {},
   "outputs": [
    {
     "name": "stdout",
     "output_type": "stream",
     "text": [
      "['John', 'Arthur', 'Brian', 'Terry', 'Michael', 'Eric', 'Graham']\n"
     ]
    }
   ],
   "source": [
    "names=[\"Terry\",\"John\",\"Michael\",\"Eric\",\"Graham\",\"Arthur\",\"Brian\"]\n",
    "random.shuffle(names)\n",
    "print(names)"
   ]
  },
  {
   "cell_type": "code",
   "execution_count": 27,
   "metadata": {},
   "outputs": [
    {
     "name": "stdout",
     "output_type": "stream",
     "text": [
      "['Michael', 'John', 'Terry', 'Arthur', 'Graham', 'Brian', 'Eric']\n"
     ]
    }
   ],
   "source": [
    "random.shuffle(names)\n",
    "print(names)"
   ]
  },
  {
   "cell_type": "code",
   "execution_count": 28,
   "metadata": {},
   "outputs": [],
   "source": [
    "data = [(1002, 'Eric', 3.19), \n",
    "        (1223, 'Michael', 3.32), \n",
    "        (1240, 'Terry', 3.39), \n",
    "        (1344, 'Arthur', 3.48), \n",
    "        (1354, 'John', 2.31), \n",
    "        (1492, 'Brian', 2.14), \n",
    "        (1752, 'Graham', 3.94)]"
   ]
  },
  {
   "cell_type": "code",
   "execution_count": 29,
   "metadata": {},
   "outputs": [
    {
     "name": "stdout",
     "output_type": "stream",
     "text": [
      "[(1354, 'John', 2.31), (1240, 'Terry', 3.39), (1002, 'Eric', 3.19), (1752, 'Graham', 3.94), (1223, 'Michael', 3.32), (1492, 'Brian', 2.14), (1344, 'Arthur', 3.48)]\n"
     ]
    }
   ],
   "source": [
    "random.shuffle(data)\n",
    "print(data)"
   ]
  },
  {
   "cell_type": "code",
   "execution_count": 30,
   "metadata": {},
   "outputs": [],
   "source": [
    "test_set=data[:2]\n",
    "train_set=data[2:]"
   ]
  },
  {
   "cell_type": "code",
   "execution_count": 31,
   "metadata": {},
   "outputs": [
    {
     "data": {
      "text/plain": [
       "[(1492, 'Brian', 2.14), (1354, 'John', 2.31)]"
      ]
     },
     "execution_count": 31,
     "metadata": {},
     "output_type": "execute_result"
    }
   ],
   "source": [
    "random.sample(data,2)"
   ]
  },
  {
   "cell_type": "code",
   "execution_count": 32,
   "metadata": {},
   "outputs": [],
   "source": [
    "def simpleaxis(ax):\n",
    "    ax.spines['top'].set_visible(False)\n",
    "    ax.spines['right'].set_visible(False)\n",
    "    ax.get_xaxis().tick_bottom()\n",
    "    ax.get_yaxis().tick_left()"
   ]
  },
  {
   "cell_type": "code",
   "execution_count": 37,
   "metadata": {},
   "outputs": [
    {
     "data": {
      "image/png": "[encoded data removed]",
      "text/plain": [
       "<matplotlib.figure.Figure at 0x7f3e7e0e5d30>"
      ]
     },
     "metadata": {},
     "output_type": "display_data"
    }
   ],
   "source": [
    "import scipy\n",
    "x=np.linspace(0,3,500)\n",
    "y=scipy.stats.rayleigh.pdf(x)\n",
    "y1=scipy.stats.rayleigh(1,.5).pdf(x)\n",
    "plt.plot(x,y, ls=\"-\",c=\"k\")\n",
    "plt.plot(x, y1,ls=\"--\",c=\"k\")\n",
    "simpleaxis(plt.gca())"
   ]
  },
  {
   "cell_type": "code",
   "execution_count": 36,
   "metadata": {},
   "outputs": [],
   "source": [
    "import scipy"
   ]
  },
  {
   "cell_type": "code",
   "execution_count": 39,
   "metadata": {},
   "outputs": [
    {
     "data": {
      "image/png": "[encoded data removed]",
      "text/plain": [
       "<matplotlib.figure.Figure at 0x7f3e7bd10e48>"
      ]
     },
     "metadata": {},
     "output_type": "display_data"
    }
   ],
   "source": [
    "xvals=np.linspace(200,800,100)\n",
    "pdfvals=scipy.stats.norm(500,100).pdf(xvals)\n",
    "cdfvals=scipy.stats.norm(500,100).cdf(xvals)\n",
    "fig,(axtop,axbot)=plt.subplots(nrows=2,ncols=1,sharex=True)\n",
    "axtop.plot(xvals,pdfvals,c=\"k\")\n",
    "axbot.plot(xvals,cdfvals,c=\"k\")\n",
    "simpleaxis(axtop)\n",
    "simpleaxis(axbot)\n",
    "axtop.set_yticks([0,.001,.002,.003,.004])\n",
    "axtop.set_ylim(0,.0042)\n",
    "fig.suptitle(\"Normal Distribution $N(500,100)$\")\n",
    "axtop.annotate(xy=(300,.003),s=\"PDF\", fontsize=12)\n",
    "axbot.annotate(xy=(300,.6),s=\"CDF\", fontsize=12);"
   ]
  },
  {
   "cell_type": "code",
   "execution_count": null,
   "metadata": {},
   "outputs": [],
   "source": []
  }
 ],
 "metadata": {
  "kernelspec": {
   "display_name": "Python 3",
   "language": "python",
   "name": "python3"
  },
  "language_info": {
   "codemirror_mode": {
    "name": "ipython",
    "version": 3
   },
   "file_extension": ".py",
   "mimetype": "text/x-python",
   "name": "python",
   "nbconvert_exporter": "python",
   "pygments_lexer": "ipython3",
   "version": "3.6.5"
  }
 },
 "nbformat": 4,
 "nbformat_minor": 2
}
