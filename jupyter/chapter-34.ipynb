{
 "cells": [
  {
   "cell_type": "markdown",
   "metadata": {},
   "source": [
    "# Computational Geometry\n",
    "\n",
    "Examples from Chapter 34 of <i>Scientific Computation for Hackers: Python and the Jupyter Shell</i>\n",
    "\n",
    "GPL license. "
   ]
  },
  {
   "cell_type": "code",
   "execution_count": 1,
   "metadata": {},
   "outputs": [
    {
     "data": {
      "text/plain": [
       "[0, 1, 4, 9, 16]"
      ]
     },
     "execution_count": 1,
     "metadata": {},
     "output_type": "execute_result"
    }
   ],
   "source": [
    "list((x**2 for x in range(5)))"
   ]
  },
  {
   "cell_type": "code",
   "execution_count": 2,
   "metadata": {},
   "outputs": [
    {
     "data": {
      "text/plain": [
       "[3, 5]"
      ]
     },
     "execution_count": 2,
     "metadata": {},
     "output_type": "execute_result"
    }
   ],
   "source": [
    "class  point():\n",
    "    def __init__(self, x, y):\n",
    "        self.x = x\n",
    "        self.y = y\n",
    "    def __repr__(self):\n",
    "        return str([self.x, self.y])\n",
    "    \n",
    "    def plot(self,size=15, color=\"k\",off=0, n=\"\"):\n",
    "        plt.scatter(self.x, self.y,s=size, c=color)\n",
    "        plt.annotate(xy=(self.x+off,self.y+off), s=n)\n",
    "A=point(3,5)\n",
    "A"
   ]
  },
  {
   "cell_type": "code",
   "execution_count": 3,
   "metadata": {},
   "outputs": [
    {
     "data": {
      "text/plain": [
       "[[3, 5], [12, -3]]"
      ]
     },
     "execution_count": 3,
     "metadata": {},
     "output_type": "execute_result"
    }
   ],
   "source": [
    "class lineseg():\n",
    "    def __init__(self, p1, p2):\n",
    "        if not isinstance(p1,point):\n",
    "            print(p1, \"is not a point - set to origin!\")\n",
    "            p1=point(0,0)\n",
    "        if not isinstance(p2, point):\n",
    "            print(p2, \"is not a point - set to origin!\")\n",
    "            p2=point(0,0)\n",
    "        self.point1=p1\n",
    "        self.point2=p2\n",
    "    def dx(self):\n",
    "        return (self.point2.x - self.point1.x)\n",
    "    def dy(self):\n",
    "        return( self.point2.y - self.point1.y)\n",
    "    def length(self):\n",
    "        return (self.dx()**2 + self.dy()**2)**0.5\n",
    "    def __repr__(self):\n",
    "        return str([self.point1, self.point2])\n",
    "B=point(12,-3)\n",
    "L=lineseg(A,B)\n",
    "L"
   ]
  },
  {
   "cell_type": "code",
   "execution_count": 4,
   "metadata": {},
   "outputs": [
    {
     "name": "stdout",
     "output_type": "stream",
     "text": [
      "5 is not a point - set to origin!\n",
      "12 is not a point - set to origin!\n"
     ]
    },
    {
     "data": {
      "text/plain": [
       "[[0, 0], [0, 0]]"
      ]
     },
     "execution_count": 4,
     "metadata": {},
     "output_type": "execute_result"
    }
   ],
   "source": [
    "L=lineseg(5,12)\n",
    "L"
   ]
  },
  {
   "cell_type": "code",
   "execution_count": 5,
   "metadata": {},
   "outputs": [
    {
     "data": {
      "text/plain": [
       "0.0"
      ]
     },
     "execution_count": 5,
     "metadata": {},
     "output_type": "execute_result"
    }
   ],
   "source": [
    "L.length()"
   ]
  },
  {
   "cell_type": "code",
   "execution_count": 6,
   "metadata": {},
   "outputs": [],
   "source": [
    "def SameSide(A,B,C,D):    \n",
    "# Return True only if C and D are on the same side of AB\n",
    "    AB=lineseg(A,B)\n",
    "    AC=lineseg(A,C)\n",
    "    AD=lineseg(A,D)\n",
    "    M1 = (AC.dx() * AB.dy() - AB.dx()* AC.dy())\n",
    "    M2 = (AD.dx() * AB.dy() - AB.dx()* AD.dy())\n",
    "    return(M1*M2>0)"
   ]
  },
  {
   "cell_type": "code",
   "execution_count": 7,
   "metadata": {},
   "outputs": [
    {
     "data": {
      "text/plain": [
       "(False, True)"
      ]
     },
     "execution_count": 7,
     "metadata": {},
     "output_type": "execute_result"
    }
   ],
   "source": [
    "A=point(1,.5)\n",
    "B=point(2, 1)\n",
    "C=point(5, .1)\n",
    "D=point(.1, 1)\n",
    "E=point(2,.2)\n",
    "SameSide(A,B,C,D), SameSide(A,B,C,E)"
   ]
  },
  {
   "cell_type": "code",
   "execution_count": 8,
   "metadata": {},
   "outputs": [
    {
     "data": {
      "text/plain": [
       "[<matplotlib.lines.Line2D at 0x7f62e3d49da0>]"
      ]
     },
     "execution_count": 8,
     "metadata": {},
     "output_type": "execute_result"
    },
    {
     "data": {
      "image/png": "[encoded data removed]",
      "text/plain": [
       "<matplotlib.figure.Figure at 0x7f630c4a7208>"
      ]
     },
     "metadata": {},
     "output_type": "display_data"
    }
   ],
   "source": [
    "import matplotlib.pyplot as plt\n",
    "%matplotlib inline\n",
    "A.plot(n=\"A\",off=-.15)\n",
    "B.plot(n=\"B\",off=.05)\n",
    "C.plot(n=\"C\",off=.05)\n",
    "D.plot(n=\"D\",off=.05)\n",
    "E.plot(n=\"E\",off=.05)\n",
    "plt.plot([A.x,B.x],[A.y,B.y], c=\"k\")"
   ]
  },
  {
   "cell_type": "code",
   "execution_count": 9,
   "metadata": {},
   "outputs": [],
   "source": [
    "def OnLine(A, B, C):\n",
    "    AB = lineseg(A, B)\n",
    "    AC = lineseg(A, C)\n",
    "    if abs(AC.dx()*AB.dy()-AB.dx()*AC.dy()) < 1.0E-10:\n",
    "        return True\n",
    "    return False"
   ]
  },
  {
   "cell_type": "code",
   "execution_count": 10,
   "metadata": {},
   "outputs": [
    {
     "data": {
      "text/plain": [
       "(True, False)"
      ]
     },
     "execution_count": 10,
     "metadata": {},
     "output_type": "execute_result"
    }
   ],
   "source": [
    "A=point(1,1)\n",
    "B=point(2,2)\n",
    "C=point(3,3)\n",
    "D=point(3,4)\n",
    "(OnLine(A,B,C),OnLine(A,B,D))"
   ]
  },
  {
   "cell_type": "code",
   "execution_count": 11,
   "metadata": {},
   "outputs": [],
   "source": [
    "def Between(A, B, C):\n",
    "    if C==A or C==B:  return True\n",
    "    if OnLine(A, B, C):\n",
    "        minx=min(A.x, B.x); maxx=max(A.x, B.x);\n",
    "        miny=min(A.y, B.y); maxy=max(A.y, B.y);\n",
    "        if (minx <= C.x <= maxx) and (miny <= C.y <= maxy):\n",
    "            return True\n",
    "    return False"
   ]
  },
  {
   "cell_type": "code",
   "execution_count": 12,
   "metadata": {},
   "outputs": [
    {
     "data": {
      "text/plain": [
       "(False, True, False)"
      ]
     },
     "execution_count": 12,
     "metadata": {},
     "output_type": "execute_result"
    }
   ],
   "source": [
    "(Between(A,B,C), Between(C,A,B), Between(B,A,D))"
   ]
  },
  {
   "cell_type": "code",
   "execution_count": 13,
   "metadata": {},
   "outputs": [
    {
     "data": {
      "text/plain": [
       "True"
      ]
     },
     "execution_count": 13,
     "metadata": {},
     "output_type": "execute_result"
    }
   ],
   "source": [
    "def LineIntersect(A, B, C, D):\n",
    "    if not SameSide(A,B,C,D):\n",
    "        return True\n",
    "    elif not SameSide(C, D, A, B):\n",
    "        return True\n",
    "    else:\n",
    "        return False\n",
    "    return False\n",
    "A=point(1,.5); B=point(2,1); C=point(5,.1); D=point(.1, 1)\n",
    "LineIntersect(A,B,C,D)    "
   ]
  },
  {
   "cell_type": "code",
   "execution_count": 14,
   "metadata": {},
   "outputs": [],
   "source": [
    "import numpy as np\n",
    "def LineIntersectionPoint(A, B, C, D):\n",
    "    if LineIntersect(A, B, C, D):\n",
    "        D1=np.linalg.det( np.array([[C.x-A.x, C.x-D.x],\n",
    "                                    [C.y-A.y, C.y-D.y]]))\n",
    "        D2=np.linalg.det( np.array([[B.x-A.x, C.x-D.x],\n",
    "                                    [B.y-A.y, C.y-D.y]]))\n",
    "        t = D1/D2 if abs(D2)>1.0E-10 else 0  \n",
    "        return point(A.x+t*(B.x-A.x), A.y+t*(B.y-A.y))  "
   ]
  },
  {
   "cell_type": "code",
   "execution_count": 15,
   "metadata": {},
   "outputs": [
    {
     "data": {
      "text/plain": [
       "True"
      ]
     },
     "execution_count": 15,
     "metadata": {},
     "output_type": "execute_result"
    }
   ],
   "source": [
    "def LineSegIntersect(A, B, C, D):\n",
    "    if Between(A,B,C) or Between(A, B, D) or \\\n",
    "       Between(C, D, A) or Between(C,D,B):           \n",
    "        return True\n",
    "    elif LineIntersect(A, B, C, D):\n",
    "       Q = LineIntersectionPoint(A, B, C, D)      \n",
    "       if Between(A, B, Q) and Between(C, D, Q):\n",
    "           return True\n",
    "    return False\n",
    "A=point(1,.5); B=point(2,1); C=point(5,.1);D=point(.1,1)\n",
    "LineSegIntersect(A,B,C,D)"
   ]
  },
  {
   "cell_type": "code",
   "execution_count": 16,
   "metadata": {},
   "outputs": [
    {
     "data": {
      "image/png": "[encoded data removed]",
      "text/plain": [
       "<matplotlib.figure.Figure at 0x7f62e3d7a080>"
      ]
     },
     "metadata": {},
     "output_type": "display_data"
    }
   ],
   "source": [
    "from scipy.spatial import *\n",
    "import matplotlib.pyplot as plot\n",
    "pts=np.random.rand(50,2) # generate 50 random points\n",
    "H=ConvexHull(pts)\n",
    "p=convex_hull_plot_2d(H);"
   ]
  },
  {
   "cell_type": "code",
   "execution_count": 17,
   "metadata": {},
   "outputs": [
    {
     "data": {
      "text/plain": [
       "array([ 8, 36, 43, 40,  1,  9, 34,  3, 37, 45, 44], dtype=int32)"
      ]
     },
     "execution_count": 17,
     "metadata": {},
     "output_type": "execute_result"
    }
   ],
   "source": [
    "H.vertices"
   ]
  },
  {
   "cell_type": "code",
   "execution_count": 18,
   "metadata": {},
   "outputs": [
    {
     "data": {
      "text/plain": [
       "array([[9.98719498e-01, 3.11795325e-02],\n",
       "       [9.97169233e-01, 8.30402231e-01],\n",
       "       [7.80830321e-01, 9.57543543e-01],\n",
       "       [7.16831364e-01, 9.75461211e-01],\n",
       "       [4.79075128e-01, 9.89497544e-01],\n",
       "       [2.27916433e-01, 9.66837505e-01],\n",
       "       [4.52395406e-02, 9.29618492e-01],\n",
       "       [3.27891421e-02, 4.28757441e-01],\n",
       "       [6.10244884e-02, 4.08528344e-02],\n",
       "       [1.43114085e-01, 2.13276277e-02],\n",
       "       [7.82921186e-01, 5.22176965e-05]])"
      ]
     },
     "execution_count": 18,
     "metadata": {},
     "output_type": "execute_result"
    }
   ],
   "source": [
    "pts[H.vertices]"
   ]
  },
  {
   "cell_type": "code",
   "execution_count": 19,
   "metadata": {},
   "outputs": [
    {
     "data": {
      "text/plain": [
       "array([[36,  8],\n",
       "       [37,  3],\n",
       "       [34,  3],\n",
       "       [43, 36],\n",
       "       [44,  8],\n",
       "       [ 9,  1],\n",
       "       [ 9, 34],\n",
       "       [40,  1],\n",
       "       [40, 43],\n",
       "       [45, 37],\n",
       "       [45, 44]], dtype=int32)"
      ]
     },
     "execution_count": 19,
     "metadata": {},
     "output_type": "execute_result"
    }
   ],
   "source": [
    "H.simplices"
   ]
  },
  {
   "cell_type": "code",
   "execution_count": 20,
   "metadata": {},
   "outputs": [
    {
     "data": {
      "text/plain": [
       "array([[[9.97169233e-01, 8.30402231e-01],\n",
       "        [9.98719498e-01, 3.11795325e-02]],\n",
       "\n",
       "       [[6.10244884e-02, 4.08528344e-02],\n",
       "        [3.27891421e-02, 4.28757441e-01]],\n",
       "\n",
       "       [[4.52395406e-02, 9.29618492e-01],\n",
       "        [3.27891421e-02, 4.28757441e-01]],\n",
       "\n",
       "       [[7.80830321e-01, 9.57543543e-01],\n",
       "        [9.97169233e-01, 8.30402231e-01]],\n",
       "\n",
       "       [[7.82921186e-01, 5.22176965e-05],\n",
       "        [9.98719498e-01, 3.11795325e-02]],\n",
       "\n",
       "       [[2.27916433e-01, 9.66837505e-01],\n",
       "        [4.79075128e-01, 9.89497544e-01]],\n",
       "\n",
       "       [[2.27916433e-01, 9.66837505e-01],\n",
       "        [4.52395406e-02, 9.29618492e-01]],\n",
       "\n",
       "       [[7.16831364e-01, 9.75461211e-01],\n",
       "        [4.79075128e-01, 9.89497544e-01]],\n",
       "\n",
       "       [[7.16831364e-01, 9.75461211e-01],\n",
       "        [7.80830321e-01, 9.57543543e-01]],\n",
       "\n",
       "       [[1.43114085e-01, 2.13276277e-02],\n",
       "        [6.10244884e-02, 4.08528344e-02]],\n",
       "\n",
       "       [[1.43114085e-01, 2.13276277e-02],\n",
       "        [7.82921186e-01, 5.22176965e-05]]])"
      ]
     },
     "execution_count": 20,
     "metadata": {},
     "output_type": "execute_result"
    }
   ],
   "source": [
    "pts[H.simplices]"
   ]
  },
  {
   "cell_type": "code",
   "execution_count": 21,
   "metadata": {},
   "outputs": [
    {
     "name": "stderr",
     "output_type": "stream",
     "text": [
      "/usr/local/lib/python3.6/dist-packages/scipy/spatial/_plotutils.py:20: MatplotlibDeprecationWarning: The ishold function was deprecated in version 2.0.\n",
      "  was_held = ax.ishold()\n"
     ]
    },
    {
     "data": {
      "text/plain": [
       "[]"
      ]
     },
     "execution_count": 21,
     "metadata": {},
     "output_type": "execute_result"
    },
    {
     "data": {
      "image/png": "[encoded data removed]",
      "text/plain": [
       "<matplotlib.figure.Figure at 0x7f62e3d8e240>"
      ]
     },
     "metadata": {},
     "output_type": "display_data"
    }
   ],
   "source": [
    "%matplotlib inline\n",
    "import numpy as np\n",
    "import matplotlib.pyplot as plt\n",
    "from scipy.spatial import *\n",
    "pts = np.random.rand(25,2) # generate random points\n",
    "DT=Delaunay(pts)\n",
    "# find the Delaunay triangulation\n",
    "V=Voronoi(pts)\n",
    "# find the Voronoi diagram\n",
    "#---------------------------- all the rest is plotting\n",
    "F,(axV,axD)=plt.subplots(nrows=1,ncols=2) # 2-column plot\n",
    "#---------------------------- first plot\n",
    "VP=voronoi_plot_2d(V,axV)\n",
    "# Voronoi on left plot\n",
    "axV.set_aspect(\"equal\")\n",
    "axV.set_xticks([])\n",
    "# turn off tick marks\n",
    "axV.set_yticks([])\n",
    "#---------------------------- second plot\n",
    "DP=delaunay_plot_2d(DT,axD) # Delaunay on right plot\n",
    "axD.set_aspect(\"equal\")\n",
    "axD.set_xticks([])\n",
    "axD.set_yticks([])"
   ]
  },
  {
   "cell_type": "code",
   "execution_count": 22,
   "metadata": {},
   "outputs": [
    {
     "data": {
      "text/plain": [
       "array([[[0.12008077, 0.52091207],\n",
       "        [0.18456428, 0.61657415],\n",
       "        [0.08437193, 0.96992659]],\n",
       "\n",
       "       [[0.18456428, 0.61657415],\n",
       "        [0.12008077, 0.52091207],\n",
       "        [0.31183188, 0.56148482]],\n",
       "\n",
       "       [[0.20973178, 0.38696171],\n",
       "        [0.12008077, 0.52091207],\n",
       "        [0.27445462, 0.09315814]],\n",
       "\n",
       "       [[0.89670593, 0.65693052],\n",
       "        [0.67604602, 0.54714569],\n",
       "        [0.95150797, 0.44599648]],\n",
       "\n",
       "       [[0.58139949, 0.03940164],\n",
       "        [0.66496281, 0.1561101 ],\n",
       "        [0.27445462, 0.09315814]],\n",
       "\n",
       "       [[0.66496281, 0.1561101 ],\n",
       "        [0.5335212 , 0.42882514],\n",
       "        [0.27445462, 0.09315814]],\n",
       "\n",
       "       [[0.66496281, 0.1561101 ],\n",
       "        [0.58139949, 0.03940164],\n",
       "        [0.93495182, 0.10669938]],\n",
       "\n",
       "       [[0.5335212 , 0.42882514],\n",
       "        [0.57348898, 0.49324538],\n",
       "        [0.31183188, 0.56148482]],\n",
       "\n",
       "       [[0.30124077, 0.43423724],\n",
       "        [0.5335212 , 0.42882514],\n",
       "        [0.31183188, 0.56148482]],\n",
       "\n",
       "       [[0.12008077, 0.52091207],\n",
       "        [0.30124077, 0.43423724],\n",
       "        [0.31183188, 0.56148482]],\n",
       "\n",
       "       [[0.20973178, 0.38696171],\n",
       "        [0.30124077, 0.43423724],\n",
       "        [0.12008077, 0.52091207]],\n",
       "\n",
       "       [[0.72147508, 0.29430247],\n",
       "        [0.93495182, 0.10669938],\n",
       "        [0.95150797, 0.44599648]],\n",
       "\n",
       "       [[0.67604602, 0.54714569],\n",
       "        [0.72147508, 0.29430247],\n",
       "        [0.95150797, 0.44599648]],\n",
       "\n",
       "       [[0.57348898, 0.49324538],\n",
       "        [0.72147508, 0.29430247],\n",
       "        [0.67604602, 0.54714569]],\n",
       "\n",
       "       [[0.72147508, 0.29430247],\n",
       "        [0.57348898, 0.49324538],\n",
       "        [0.5335212 , 0.42882514]],\n",
       "\n",
       "       [[0.89670593, 0.65693052],\n",
       "        [0.83671398, 0.83477926],\n",
       "        [0.67604602, 0.54714569]],\n",
       "\n",
       "       [[0.83671398, 0.83477926],\n",
       "        [0.620045  , 0.82931911],\n",
       "        [0.67604602, 0.54714569]],\n",
       "\n",
       "       [[0.620045  , 0.82931911],\n",
       "        [0.83671398, 0.83477926],\n",
       "        [0.77125173, 0.89939288]],\n",
       "\n",
       "       [[0.57965811, 0.6233197 ],\n",
       "        [0.57348898, 0.49324538],\n",
       "        [0.67604602, 0.54714569]],\n",
       "\n",
       "       [[0.620045  , 0.82931911],\n",
       "        [0.57965811, 0.6233197 ],\n",
       "        [0.67604602, 0.54714569]],\n",
       "\n",
       "       [[0.57348898, 0.49324538],\n",
       "        [0.57965811, 0.6233197 ],\n",
       "        [0.31183188, 0.56148482]],\n",
       "\n",
       "       [[0.52762623, 0.84883143],\n",
       "        [0.18456428, 0.61657415],\n",
       "        [0.31183188, 0.56148482]],\n",
       "\n",
       "       [[0.57965811, 0.6233197 ],\n",
       "        [0.52762623, 0.84883143],\n",
       "        [0.31183188, 0.56148482]],\n",
       "\n",
       "       [[0.52762623, 0.84883143],\n",
       "        [0.57965811, 0.6233197 ],\n",
       "        [0.620045  , 0.82931911]],\n",
       "\n",
       "       [[0.52762623, 0.84883143],\n",
       "        [0.49765669, 0.99855701],\n",
       "        [0.08437193, 0.96992659]],\n",
       "\n",
       "       [[0.18456428, 0.61657415],\n",
       "        [0.52762623, 0.84883143],\n",
       "        [0.08437193, 0.96992659]],\n",
       "\n",
       "       [[0.25234377, 0.38864911],\n",
       "        [0.20973178, 0.38696171],\n",
       "        [0.27445462, 0.09315814]],\n",
       "\n",
       "       [[0.25234377, 0.38864911],\n",
       "        [0.30124077, 0.43423724],\n",
       "        [0.20973178, 0.38696171]],\n",
       "\n",
       "       [[0.5335212 , 0.42882514],\n",
       "        [0.25234377, 0.38864911],\n",
       "        [0.27445462, 0.09315814]],\n",
       "\n",
       "       [[0.30124077, 0.43423724],\n",
       "        [0.25234377, 0.38864911],\n",
       "        [0.5335212 , 0.42882514]],\n",
       "\n",
       "       [[0.68215672, 0.18743128],\n",
       "        [0.66496281, 0.1561101 ],\n",
       "        [0.93495182, 0.10669938]],\n",
       "\n",
       "       [[0.72147508, 0.29430247],\n",
       "        [0.68215672, 0.18743128],\n",
       "        [0.93495182, 0.10669938]],\n",
       "\n",
       "       [[0.66496281, 0.1561101 ],\n",
       "        [0.68215672, 0.18743128],\n",
       "        [0.5335212 , 0.42882514]],\n",
       "\n",
       "       [[0.68215672, 0.18743128],\n",
       "        [0.72147508, 0.29430247],\n",
       "        [0.5335212 , 0.42882514]],\n",
       "\n",
       "       [[0.52762623, 0.84883143],\n",
       "        [0.56191399, 0.92310937],\n",
       "        [0.49765669, 0.99855701]],\n",
       "\n",
       "       [[0.56191399, 0.92310937],\n",
       "        [0.52762623, 0.84883143],\n",
       "        [0.620045  , 0.82931911]],\n",
       "\n",
       "       [[0.49765669, 0.99855701],\n",
       "        [0.56191399, 0.92310937],\n",
       "        [0.77125173, 0.89939288]],\n",
       "\n",
       "       [[0.56191399, 0.92310937],\n",
       "        [0.620045  , 0.82931911],\n",
       "        [0.77125173, 0.89939288]]])"
      ]
     },
     "execution_count": 22,
     "metadata": {},
     "output_type": "execute_result"
    }
   ],
   "source": [
    "DT = Delaunay(pts)\n",
    "DT.points[DT.simplices, :]"
   ]
  },
  {
   "cell_type": "code",
   "execution_count": 23,
   "metadata": {},
   "outputs": [
    {
     "data": {
      "text/plain": [
       "array([[25, -1,  1],\n",
       "       [ 9, 21,  0],\n",
       "       [-1, 26, 10],\n",
       "       [12, -1, 15],\n",
       "       [ 5, -1,  6],\n",
       "       [28,  4, 32],\n",
       "       [-1, 30,  4],\n",
       "       [20,  8, 14],\n",
       "       [ 7,  9, 29],\n",
       "       [ 8,  1, 10],\n",
       "       [ 9,  2, 27],\n",
       "       [-1, 12, 31],\n",
       "       [11,  3, 13],\n",
       "       [12, 18, 14],\n",
       "       [ 7, 33, 13],\n",
       "       [16,  3, -1],\n",
       "       [19, 15, 17],\n",
       "       [-1, 37, 16],\n",
       "       [13, 19, 20],\n",
       "       [18, 16, 23],\n",
       "       [22,  7, 18],\n",
       "       [ 1, 22, 25],\n",
       "       [21, 20, 23],\n",
       "       [19, 35, 22],\n",
       "       [-1, 25, 34],\n",
       "       [24,  0, 21],\n",
       "       [ 2, 28, 27],\n",
       "       [10, 26, 29],\n",
       "       [26,  5, 29],\n",
       "       [28,  8, 27],\n",
       "       [ 6, 31, 32],\n",
       "       [30, 11, 33],\n",
       "       [33,  5, 30],\n",
       "       [14, 32, 31],\n",
       "       [36, 24, 35],\n",
       "       [23, 37, 34],\n",
       "       [37, -1, 34],\n",
       "       [17, 36, 35]], dtype=int32)"
      ]
     },
     "execution_count": 23,
     "metadata": {},
     "output_type": "execute_result"
    }
   ],
   "source": [
    "DT.neighbors"
   ]
  },
  {
   "cell_type": "code",
   "execution_count": 24,
   "metadata": {},
   "outputs": [
    {
     "name": "stdout",
     "output_type": "stream",
     "text": [
      "[[[0.27445462 0.09315814]\n",
      "  [0.58139949 0.03940164]]\n",
      "\n",
      " [[0.93495182 0.10669938]\n",
      "  [0.95150797 0.44599648]]\n",
      "\n",
      " [[0.93495182 0.10669938]\n",
      "  [0.58139949 0.03940164]]\n",
      "\n",
      " [[0.49765669 0.99855701]\n",
      "  [0.08437193 0.96992659]]\n",
      "\n",
      " [[0.49765669 0.99855701]\n",
      "  [0.77125173 0.89939288]]\n",
      "\n",
      " [[0.83671398 0.83477926]\n",
      "  [0.77125173 0.89939288]]\n",
      "\n",
      " [[0.12008077 0.52091207]\n",
      "  [0.08437193 0.96992659]]\n",
      "\n",
      " [[0.12008077 0.52091207]\n",
      "  [0.27445462 0.09315814]]\n",
      "\n",
      " [[0.89670593 0.65693052]\n",
      "  [0.95150797 0.44599648]]\n",
      "\n",
      " [[0.89670593 0.65693052]\n",
      "  [0.83671398 0.83477926]]]\n"
     ]
    }
   ],
   "source": [
    "CH = ConvexHull(pts)\n",
    "print(CH.points[CH.simplices, :])"
   ]
  },
  {
   "cell_type": "code",
   "execution_count": 25,
   "metadata": {},
   "outputs": [
    {
     "name": "stdout",
     "output_type": "stream",
     "text": [
      "Voronoi vertices= [[[ 0.66802335  0.92396587]\n",
      "  [ 0.45458133  0.21847343]]\n",
      "\n",
      " [[ 0.66802335  0.92396587]\n",
      "  [ 0.77403239 -0.01025369]]\n",
      "\n",
      " [[ 0.45458133  0.21847343]\n",
      "  [ 0.77403239 -0.01025369]]\n",
      "\n",
      " [[ 0.66802335  0.92396587]\n",
      "  [-0.34931327  0.10977728]]\n",
      "\n",
      " [[ 0.66802335  0.92396587]\n",
      "  [-0.08740609  0.73033841]]\n",
      "\n",
      " [[-0.08740609  0.73033841]\n",
      "  [ 0.21974439  0.52329565]]\n",
      "\n",
      " [[ 0.21974439  0.52329565]\n",
      "  [ 0.22366669  0.50475846]]\n",
      "\n",
      " [[-0.34931327  0.10977728]\n",
      "  [ 0.21557696  0.48785004]]\n",
      "\n",
      " [[ 0.22366669  0.50475846]\n",
      "  [ 0.21557696  0.48785004]]\n",
      "\n",
      " [[ 0.66802335  0.92396587]\n",
      "  [ 0.73665035  0.70198317]]\n",
      "\n",
      " [[ 0.73665035  0.70198317]\n",
      "  [ 0.73158592  0.70481209]]\n",
      "\n",
      " [[ 0.73158592  0.70481209]\n",
      "  [ 0.72940073  0.7915244 ]]\n",
      "\n",
      " [[ 0.66802335  0.92396587]\n",
      "  [ 0.72940073  0.7915244 ]]\n",
      "\n",
      " [[ 0.82442355  0.5255651 ]\n",
      "  [ 0.73665035  0.70198317]]\n",
      "\n",
      " [[ 0.66802335  0.92396587]\n",
      "  [ 0.82442355  0.5255651 ]]\n",
      "\n",
      " [[ 0.66802335  0.92396587]\n",
      "  [ 0.89685627  0.27861075]]\n",
      "\n",
      " [[ 0.82442355  0.5255651 ]\n",
      "  [ 0.7920831   0.43749161]]\n",
      "\n",
      " [[ 0.89685627  0.27861075]\n",
      "  [ 0.7920831   0.43749161]]\n",
      "\n",
      " [[ 0.44320831  0.52946589]\n",
      "  [ 0.65404657  0.39865704]]\n",
      "\n",
      " [[ 0.44320831  0.52946589]\n",
      "  [ 0.45226124  0.56417839]]\n",
      "\n",
      " [[ 0.67891971  0.41715922]\n",
      "  [ 0.65404657  0.39865704]]\n",
      "\n",
      " [[ 0.67891971  0.41715922]\n",
      "  [ 0.60547063  0.55691202]]\n",
      "\n",
      " [[ 0.60547063  0.55691202]\n",
      "  [ 0.45226124  0.56417839]]\n",
      "\n",
      " [[ 0.7920831   0.43749161]\n",
      "  [ 0.67891971  0.41715922]]\n",
      "\n",
      " [[ 0.73158592  0.70481209]\n",
      "  [ 0.72063667  0.70263907]]\n",
      "\n",
      " [[ 0.60547063  0.55691202]\n",
      "  [ 0.72063667  0.70263907]]\n",
      "\n",
      " [[-0.08740609  0.73033841]\n",
      "  [ 0.28601248  0.83622047]]\n",
      "\n",
      " [[ 0.21974439  0.52329565]\n",
      "  [ 0.32821478  0.7738844 ]]\n",
      "\n",
      " [[ 0.32821478  0.7738844 ]\n",
      "  [ 0.28601248  0.83622047]]\n",
      "\n",
      " [[ 0.44320831  0.52946589]\n",
      "  [ 0.41870892  0.48852464]]\n",
      "\n",
      " [[ 0.41870892  0.48852464]\n",
      "  [ 0.22366669  0.50475846]]\n",
      "\n",
      " [[ 0.45226124  0.56417839]\n",
      "  [ 0.41970876  0.70517337]]\n",
      "\n",
      " [[ 0.32821478  0.7738844 ]\n",
      "  [ 0.41970876  0.70517337]]\n",
      "\n",
      " [[ 0.72063667  0.70263907]\n",
      "  [ 0.55200983  0.73569894]]\n",
      "\n",
      " [[ 0.41970876  0.70517337]\n",
      "  [ 0.55200983  0.73569894]]\n",
      "\n",
      " [[ 0.66802335  0.92396587]\n",
      "  [ 0.29818253  0.88076746]]\n",
      "\n",
      " [[ 0.29818253  0.88076746]\n",
      "  [ 0.28601248  0.83622047]]\n",
      "\n",
      " [[ 0.23693336  0.23892325]\n",
      "  [ 0.22803068  0.46374397]]\n",
      "\n",
      " [[ 0.23693336  0.23892325]\n",
      "  [ 0.4152894   0.25226918]]\n",
      "\n",
      " [[ 0.22803068  0.46374397]\n",
      "  [ 0.41349656  0.26481664]]\n",
      "\n",
      " [[ 0.4152894   0.25226918]\n",
      "  [ 0.41349656  0.26481664]]\n",
      "\n",
      " [[-0.34931327  0.10977728]\n",
      "  [ 0.23693336  0.23892325]]\n",
      "\n",
      " [[ 0.21557696  0.48785004]\n",
      "  [ 0.22803068  0.46374397]]\n",
      "\n",
      " [[ 0.45458133  0.21847343]\n",
      "  [ 0.45394238  0.22243695]]\n",
      "\n",
      " [[ 0.45394238  0.22243695]\n",
      "  [ 0.4152894   0.25226918]]\n",
      "\n",
      " [[ 0.41870892  0.48852464]\n",
      "  [ 0.41349656  0.26481664]]\n",
      "\n",
      " [[ 0.79513111  0.10503353]\n",
      "  [ 0.52173923  0.25511328]]\n",
      "\n",
      " [[ 0.79513111  0.10503353]\n",
      "  [ 0.82413843  0.19586389]]\n",
      "\n",
      " [[ 0.82413843  0.19586389]\n",
      "  [ 0.57460859  0.28766699]]\n",
      "\n",
      " [[ 0.52173923  0.25511328]\n",
      "  [ 0.57460859  0.28766699]]\n",
      "\n",
      " [[ 0.45394238  0.22243695]\n",
      "  [ 0.52173923  0.25511328]]\n",
      "\n",
      " [[ 0.77403239 -0.01025369]\n",
      "  [ 0.79513111  0.10503353]]\n",
      "\n",
      " [[ 0.89685627  0.27861075]\n",
      "  [ 0.82413843  0.19586389]]\n",
      "\n",
      " [[ 0.65404657  0.39865704]\n",
      "  [ 0.57460859  0.28766699]]\n",
      "\n",
      " [[ 0.4780486   0.91677001]\n",
      "  [ 0.58027613  0.86958031]]\n",
      "\n",
      " [[ 0.4780486   0.91677001]\n",
      "  [ 0.68740918  1.09507836]]\n",
      "\n",
      " [[ 0.58027613  0.86958031]\n",
      "  [ 0.66802335  0.92396587]]\n",
      "\n",
      " [[ 0.68740918  1.09507836]\n",
      "  [ 0.66802335  0.92396587]]\n",
      "\n",
      " [[ 0.55200983  0.73569894]\n",
      "  [ 0.58027613  0.86958031]]\n",
      "\n",
      " [[ 0.29818253  0.88076746]\n",
      "  [ 0.4780486   0.91677001]]\n",
      "\n",
      " [[ 0.66802335  0.92396587]\n",
      "  [ 0.68740918  1.09507836]]\n",
      "\n",
      " [[ 0.72940073  0.7915244 ]\n",
      "  [ 0.66802335  0.92396587]]]\n"
     ]
    }
   ],
   "source": [
    "VD = Voronoi(pts)\n",
    "print(\"Voronoi vertices=\",VD.vertices[VD.ridge_vertices, :])"
   ]
  },
  {
   "cell_type": "code",
   "execution_count": null,
   "metadata": {},
   "outputs": [],
   "source": []
  }
 ],
 "metadata": {
  "kernelspec": {
   "display_name": "Python 3",
   "language": "python",
   "name": "python3"
  },
  "language_info": {
   "codemirror_mode": {
    "name": "ipython",
    "version": 3
   },
   "file_extension": ".py",
   "mimetype": "text/x-python",
   "name": "python",
   "nbconvert_exporter": "python",
   "pygments_lexer": "ipython3",
   "version": "3.6.5"
  }
 },
 "nbformat": 4,
 "nbformat_minor": 2
}
