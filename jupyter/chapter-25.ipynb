{
 "cells": [
  {
   "cell_type": "markdown",
   "metadata": {},
   "source": [
    "# Dictionaries\n",
    "\n",
    "Examples from Chapter 25 of <i>Scientific Computation for Hackers: Python and the Jupyter Shell</i>\n",
    "\n",
    "GPL license."
   ]
  },
  {
   "cell_type": "code",
   "execution_count": 1,
   "metadata": {},
   "outputs": [],
   "source": [
    "mascots={'CSUN'     : 'Matty Matador',\n",
    "         'Florida'  : 'Gators' ,\n",
    "         'UCI'      : 'Anteater',\n",
    "         'Maryland' : 'Terrapin' ,\n",
    "         'MIT'      : 'Beaver' ,\n",
    "         'Purdue'   : 'Purdue Pete',\n",
    "         'UCLA'     : 'Bruins',\n",
    "         'USC'      : 'Tommy Trojan'}"
   ]
  },
  {
   "cell_type": "code",
   "execution_count": 2,
   "metadata": {},
   "outputs": [
    {
     "data": {
      "text/plain": [
       "dict_keys(['CSUN', 'Florida', 'UCI', 'Maryland', 'MIT', 'Purdue', 'UCLA', 'USC'])"
      ]
     },
     "execution_count": 2,
     "metadata": {},
     "output_type": "execute_result"
    }
   ],
   "source": [
    "mascots.keys()"
   ]
  },
  {
   "cell_type": "code",
   "execution_count": 3,
   "metadata": {},
   "outputs": [
    {
     "data": {
      "text/plain": [
       "['CSUN', 'Florida', 'UCI', 'Maryland', 'MIT', 'Purdue', 'UCLA', 'USC']"
      ]
     },
     "execution_count": 3,
     "metadata": {},
     "output_type": "execute_result"
    }
   ],
   "source": [
    "list(mascots.keys())"
   ]
  },
  {
   "cell_type": "code",
   "execution_count": 4,
   "metadata": {},
   "outputs": [
    {
     "name": "stdout",
     "output_type": "stream",
     "text": [
      "CSUN,Florida,UCI,Maryland,MIT,Purdue,UCLA,USC,"
     ]
    }
   ],
   "source": [
    "for key in mascots.keys():\n",
    "    print(key,end=\",\")"
   ]
  },
  {
   "cell_type": "code",
   "execution_count": 7,
   "metadata": {},
   "outputs": [
    {
     "data": {
      "text/plain": [
       "True"
      ]
     },
     "execution_count": 7,
     "metadata": {},
     "output_type": "execute_result"
    }
   ],
   "source": [
    "list(mascots.keys())==list(mascots)"
   ]
  },
  {
   "cell_type": "code",
   "execution_count": 6,
   "metadata": {},
   "outputs": [
    {
     "data": {
      "text/plain": [
       "['CSUN', 'Florida', 'UCI', 'Maryland', 'MIT', 'Purdue', 'UCLA', 'USC']"
      ]
     },
     "execution_count": 6,
     "metadata": {},
     "output_type": "execute_result"
    }
   ],
   "source": [
    "list(mascots)"
   ]
  },
  {
   "cell_type": "code",
   "execution_count": 8,
   "metadata": {},
   "outputs": [
    {
     "data": {
      "text/plain": [
       "dict_items([('CSUN', 'Matty Matador'), ('Florida', 'Gators'), ('UCI', 'Anteater'), ('Maryland', 'Terrapin'), ('MIT', 'Beaver'), ('Purdue', 'Purdue Pete'), ('UCLA', 'Bruins'), ('USC', 'Tommy Trojan')])"
      ]
     },
     "execution_count": 8,
     "metadata": {},
     "output_type": "execute_result"
    }
   ],
   "source": [
    "mascots.items()"
   ]
  },
  {
   "cell_type": "code",
   "execution_count": 9,
   "metadata": {},
   "outputs": [
    {
     "data": {
      "text/plain": [
       "[('CSUN', 'Matty Matador'),\n",
       " ('Florida', 'Gators'),\n",
       " ('UCI', 'Anteater'),\n",
       " ('Maryland', 'Terrapin'),\n",
       " ('MIT', 'Beaver'),\n",
       " ('Purdue', 'Purdue Pete'),\n",
       " ('UCLA', 'Bruins'),\n",
       " ('USC', 'Tommy Trojan')]"
      ]
     },
     "execution_count": 9,
     "metadata": {},
     "output_type": "execute_result"
    }
   ],
   "source": [
    "list(mascots.items())"
   ]
  },
  {
   "cell_type": "code",
   "execution_count": 11,
   "metadata": {},
   "outputs": [
    {
     "data": {
      "text/plain": [
       "['Matty Matador',\n",
       " 'Gators',\n",
       " 'Anteater',\n",
       " 'Terrapin',\n",
       " 'Beaver',\n",
       " 'Purdue Pete',\n",
       " 'Bruins',\n",
       " 'Tommy Trojan']"
      ]
     },
     "execution_count": 11,
     "metadata": {},
     "output_type": "execute_result"
    }
   ],
   "source": [
    "list(mascots.values())"
   ]
  },
  {
   "cell_type": "code",
   "execution_count": 16,
   "metadata": {},
   "outputs": [
    {
     "data": {
      "text/plain": [
       "'MIT'"
      ]
     },
     "execution_count": 16,
     "metadata": {},
     "output_type": "execute_result"
    }
   ],
   "source": [
    "if \"Beaver\" in mascots.values():\n",
    "    i=list(mascots.values()).index(\"Beaver\")\n",
    "    s=list(mascots.keys())[i]\n",
    "else:\n",
    "    s=\"Spam! Spam!\"\n",
    "s"
   ]
  },
  {
   "cell_type": "code",
   "execution_count": 17,
   "metadata": {},
   "outputs": [],
   "source": [
    "def addanimal(animals, animal, prop):\n",
    "    if animal in animals:\n",
    "        old = animals[animal]\n",
    "        old.append(prop)\n",
    "        animals[animal]=list(set(old))\n",
    "    else:\n",
    "        animals[animal]=[prop]"
   ]
  },
  {
   "cell_type": "code",
   "execution_count": 18,
   "metadata": {},
   "outputs": [],
   "source": [
    "animals={}\n",
    "addanimal(animals,\"duck\",\"quacks\")\n",
    "addanimal(animals,\"duck\",\"swims\")\n",
    "addanimal(animals,\"duck\",\"flies\")\n",
    "addanimal(animals,\"goose\",\"squawks\")\n",
    "addanimal(animals,\"goose\",\"swims\")\n",
    "addanimal(animals,\"goose\",\"flies\")\n",
    "addanimal(animals,\"dog\",\"barks\")"
   ]
  },
  {
   "cell_type": "code",
   "execution_count": 19,
   "metadata": {},
   "outputs": [
    {
     "data": {
      "text/plain": [
       "{'duck': ['quacks', 'flies', 'swims'],\n",
       " 'goose': ['swims', 'squawks', 'flies'],\n",
       " 'dog': ['barks']}"
      ]
     },
     "execution_count": 19,
     "metadata": {},
     "output_type": "execute_result"
    }
   ],
   "source": [
    "animals"
   ]
  },
  {
   "cell_type": "code",
   "execution_count": 20,
   "metadata": {},
   "outputs": [],
   "source": [
    "def identify_animal(animals,prop):\n",
    "    db=animals.items()\n",
    "    an=[]\n",
    "    for animal,list_of_props in db:\n",
    "        if prop in list_of_props:\n",
    "            an.append(animal)\n",
    "    return an"
   ]
  },
  {
   "cell_type": "code",
   "execution_count": 21,
   "metadata": {},
   "outputs": [
    {
     "data": {
      "text/plain": [
       "['duck', 'goose']"
      ]
     },
     "execution_count": 21,
     "metadata": {},
     "output_type": "execute_result"
    }
   ],
   "source": [
    "identify_animal(animals,\"swims\")"
   ]
  },
  {
   "cell_type": "code",
   "execution_count": 22,
   "metadata": {},
   "outputs": [
    {
     "data": {
      "text/plain": [
       "['dog']"
      ]
     },
     "execution_count": 22,
     "metadata": {},
     "output_type": "execute_result"
    }
   ],
   "source": [
    "identify_animal(animals,\"barks\")"
   ]
  },
  {
   "cell_type": "code",
   "execution_count": 23,
   "metadata": {},
   "outputs": [
    {
     "data": {
      "text/plain": [
       "[]"
      ]
     },
     "execution_count": 23,
     "metadata": {},
     "output_type": "execute_result"
    }
   ],
   "source": [
    "identify_animal(animals,\"Meows\")"
   ]
  },
  {
   "cell_type": "code",
   "execution_count": 25,
   "metadata": {},
   "outputs": [
    {
     "data": {
      "text/plain": [
       "dict_items([('duck', ['quacks', 'flies', 'swims']), ('goose', ['swims', 'squawks', 'flies']), ('dog', ['barks'])])"
      ]
     },
     "execution_count": 25,
     "metadata": {},
     "output_type": "execute_result"
    }
   ],
   "source": [
    "animals.items()"
   ]
  },
  {
   "cell_type": "code",
   "execution_count": 26,
   "metadata": {},
   "outputs": [
    {
     "data": {
      "text/plain": [
       "dict_values([['quacks', 'flies', 'swims'], ['swims', 'squawks', 'flies'], ['barks']])"
      ]
     },
     "execution_count": 26,
     "metadata": {},
     "output_type": "execute_result"
    }
   ],
   "source": [
    "animals.values()"
   ]
  },
  {
   "cell_type": "code",
   "execution_count": 27,
   "metadata": {},
   "outputs": [
    {
     "data": {
      "text/plain": [
       "dict_keys(['duck', 'goose', 'dog'])"
      ]
     },
     "execution_count": 27,
     "metadata": {},
     "output_type": "execute_result"
    }
   ],
   "source": [
    "animals.keys()"
   ]
  },
  {
   "cell_type": "code",
   "execution_count": 28,
   "metadata": {},
   "outputs": [],
   "source": [
    "HighSchoolDB={'Curly': [{'period': 1, 'room': 1, 'subject': 'English'},\n",
    "{'period': 2, 'room': 1, 'subject': 'English'},\n",
    "{'period': 3, 'room': 1, 'subject': 'Math'}],\n",
    "'Larry': [{'period': 3, 'room': 1, 'subject': 'Geography'}],\n",
    "'Moe': [{'period': 1, 'room': 2, 'subject': 'French'},\n",
    "{'period': 3, 'room': 2, 'subject': 'Science'},\n",
    "{'period': 5, 'room': 4, 'subject': 'French'}]}"
   ]
  },
  {
   "cell_type": "code",
   "execution_count": null,
   "metadata": {},
   "outputs": [],
   "source": []
  }
 ],
 "metadata": {
  "kernelspec": {
   "display_name": "Python 3",
   "language": "python",
   "name": "python3"
  },
  "language_info": {
   "codemirror_mode": {
    "name": "ipython",
    "version": 3
   },
   "file_extension": ".py",
   "mimetype": "text/x-python",
   "name": "python",
   "nbconvert_exporter": "python",
   "pygments_lexer": "ipython3",
   "version": "3.6.5"
  }
 },
 "nbformat": 4,
 "nbformat_minor": 2
}
