{
 "cells": [
  {
   "cell_type": "markdown",
   "metadata": {},
   "source": [
    "# Least Squares\n",
    "\n",
    "Examples from Chapter 37 of <i>Scientific Computation for Hackers: Python and the Jupyter Shell</i>\n",
    "\n",
    "GPL license. "
   ]
  },
  {
   "cell_type": "code",
   "execution_count": 53,
   "metadata": {},
   "outputs": [],
   "source": [
    "def lr(x,y):\n",
    "    if len(x)!= len(y):\n",
    "        print(\"lists must have the same length\")\n",
    "        return\n",
    "    X=sum(x)\n",
    "    Y=sum(y)\n",
    "    A=sum([u*u for u in x])\n",
    "    C=sum([p*q for p,q in zip(x,y)])\n",
    "    n=len(x)\n",
    "    D=X*X-n*A\n",
    "    m=(X*Y-n*C)/D\n",
    "    b=(C*X-A*Y)/D\n",
    "    return(m,b)"
   ]
  },
  {
   "cell_type": "code",
   "execution_count": 54,
   "metadata": {},
   "outputs": [
    {
     "name": "stdout",
     "output_type": "stream",
     "text": [
      "[6.05900980269444, 10.240801565062291, 14.885140140252595, 13.243916494838736, 21.86677304871223, 26.322405233765764, 26.123190504571955, 31.944608177634947, 33.24979960288879]\n"
     ]
    }
   ],
   "source": [
    "import random\n",
    "#random.seed(25)\n",
    "xdata=list(range(1,10))\n",
    "ydata=[3*x+10*random.random() for x in xdata]\n",
    "print(ydata)"
   ]
  },
  {
   "cell_type": "code",
   "execution_count": 55,
   "metadata": {},
   "outputs": [
    {
     "name": "stdout",
     "output_type": "stream",
     "text": [
      "m= 3.4904861417676867 b= 2.9848631323195285\n"
     ]
    }
   ],
   "source": [
    "m,b=lr(xdata, ydata)\n",
    "print(\"m=\",m,\"b=\",b)"
   ]
  },
  {
   "cell_type": "code",
   "execution_count": 56,
   "metadata": {},
   "outputs": [],
   "source": [
    "import matplotlib.pyplot as plt\n",
    "%matplotlib inline"
   ]
  },
  {
   "cell_type": "code",
   "execution_count": 57,
   "metadata": {},
   "outputs": [
    {
     "data": {
      "text/plain": [
       "[<matplotlib.lines.Line2D at 0x7faf27b46470>]"
      ]
     },
     "execution_count": 57,
     "metadata": {},
     "output_type": "execute_result"
    },
    {
     "data": {
      "image/png": "[encoded data removed]",
      "text/plain": [
       "<matplotlib.figure.Figure at 0x7faf27b461d0>"
      ]
     },
     "metadata": {},
     "output_type": "display_data"
    }
   ],
   "source": [
    "plt.scatter(xdata,ydata)\n",
    "plt.plot([1,9],[m*1+b, m*9+b])"
   ]
  },
  {
   "cell_type": "code",
   "execution_count": 60,
   "metadata": {},
   "outputs": [],
   "source": [
    "import numpy as np\n",
    "def f(x):\n",
    "    return 10+(x-1.)*(x-2.1)*(x-2.9)*(x-4.1)*(x-5.3)\n",
    "fv = np.vectorize(f)\n",
    "xvals = np.arange(1,5.5,.3)\n",
    "n = len(xvals)\n",
    "yvals=np.array([0.5*(-1)**j for j in range(n)])+fv(xvals)"
   ]
  },
  {
   "cell_type": "code",
   "execution_count": 62,
   "metadata": {},
   "outputs": [
    {
     "data": {
      "text/plain": [
       "<matplotlib.collections.PathCollection at 0x7faf279c5320>"
      ]
     },
     "execution_count": 62,
     "metadata": {},
     "output_type": "execute_result"
    },
    {
     "data": {
      "image/png": "[encoded data removed]",
      "text/plain": [
       "<matplotlib.figure.Figure at 0x7faf27c7f438>"
      ]
     },
     "metadata": {},
     "output_type": "display_data"
    }
   ],
   "source": [
    "plt.scatter(xvals,yvals)"
   ]
  },
  {
   "cell_type": "code",
   "execution_count": 64,
   "metadata": {},
   "outputs": [],
   "source": [
    "coef=np.polyfit(xvals,yvals,4)"
   ]
  },
  {
   "cell_type": "code",
   "execution_count": 65,
   "metadata": {},
   "outputs": [],
   "source": [
    "xfit=np.linspace(1,5,100)\n",
    "yfit=np.polyval(coef,xfit)"
   ]
  },
  {
   "cell_type": "code",
   "execution_count": 66,
   "metadata": {},
   "outputs": [
    {
     "data": {
      "text/plain": [
       "[<matplotlib.lines.Line2D at 0x7faf27a0ce10>]"
      ]
     },
     "execution_count": 66,
     "metadata": {},
     "output_type": "execute_result"
    },
    {
     "data": {
      "image/png": "[encoded data removed]",
      "text/plain": [
       "<matplotlib.figure.Figure at 0x7faf27a0cef0>"
      ]
     },
     "metadata": {},
     "output_type": "display_data"
    }
   ],
   "source": [
    "plt.scatter(xvals,yvals)\n",
    "plt.plot(xfit,yfit)"
   ]
  },
  {
   "cell_type": "code",
   "execution_count": 74,
   "metadata": {},
   "outputs": [
    {
     "name": "stdout",
     "output_type": "stream",
     "text": [
      "data.txt  license.txt  spam.txt  tdh.txt\r\n"
     ]
    }
   ],
   "source": [
    "ls *.txt"
   ]
  },
  {
   "cell_type": "code",
   "execution_count": 76,
   "metadata": {},
   "outputs": [],
   "source": [
    "import numpy as np\n",
    "with open(\"data.txt\",\"r\") as f:  # read the data\n",
    "    data=f.readlines()\n",
    "A=[]; y=[]               # generate matrix A and vector y\n",
    "for line in data:\n",
    "    values = line.strip().split(\",\")\n",
    "    values = list(map(float, map(lambda x:x.strip(),values)))\n",
    "    y.append(values[0])\n",
    "    values=[1.0]+values[1:]  # prepend x with 1\n",
    "    A.append(values)"
   ]
  },
  {
   "cell_type": "code",
   "execution_count": 78,
   "metadata": {},
   "outputs": [
    {
     "name": "stdout",
     "output_type": "stream",
     "text": [
      "A= [[ 20.       -17.061      5.763      6.638     -6.088     17.52    ]\n",
      " [-17.061    212.030737  66.650803 -88.678746   5.349737 -52.433916]\n",
      " [  5.763     66.650803 190.176761 -91.023767 -24.931026 -36.507527]\n",
      " [  6.638    -88.678746 -91.023767 207.086422 -70.883846  30.735184]\n",
      " [ -6.088      5.349737 -24.931026 -70.883846 234.076836 -12.353713]\n",
      " [ 17.52     -52.433916 -36.507527  30.735184 -12.353713 134.736258]] \n",
      "b= [  23.257     281.958533  219.840338 -421.462446  389.801765  -40.21842 ]\n"
     ]
    }
   ],
   "source": [
    "A=np.array(A);\n",
    "y = np.array(y)\n",
    "AT=A.T;\n",
    "ATA = AT.dot(A)\n",
    "b = AT.dot(y)\n",
    "print(\"A=\",ATA,\"\\nb=\",b)"
   ]
  },
  {
   "cell_type": "code",
   "execution_count": 79,
   "metadata": {},
   "outputs": [
    {
     "name": "stdout",
     "output_type": "stream",
     "text": [
      "2.392 0.970 0.502 -1.014 1.466 0.270 "
     ]
    }
   ],
   "source": [
    "c=np.linalg.solve(ATA, b) # solve linear system\n",
    "for ci in c: print (\"%.3f\" %(ci), end=\" \") # print to three digits"
   ]
  },
  {
   "cell_type": "code",
   "execution_count": 80,
   "metadata": {},
   "outputs": [
    {
     "name": "stdout",
     "output_type": "stream",
     "text": [
      "2.392 0.970 0.502 -1.014 1.466 0.270 "
     ]
    },
    {
     "name": "stderr",
     "output_type": "stream",
     "text": [
      "/usr/lib/python3/dist-packages/statsmodels/compat/pandas.py:56: FutureWarning: The pandas.core.datetools module is deprecated and will be removed in a future version. Please use the pandas.tseries module instead.\n",
      "  from pandas.core import datetools\n"
     ]
    }
   ],
   "source": [
    "import statsmodels.api as sm\n",
    "model=sm.OLS(y, A)\n",
    "res=model.fit()\n",
    "for ci in res.params: print (\"%.3f\" %(ci),end=\" \")"
   ]
  },
  {
   "cell_type": "code",
   "execution_count": 82,
   "metadata": {
    "scrolled": true
   },
   "outputs": [
    {
     "name": "stdout",
     "output_type": "stream",
     "text": [
      "                            OLS Regression Results                            \n",
      "==============================================================================\n",
      "Dep. Variable:                      y   R-squared:                       0.999\n",
      "Model:                            OLS   Adj. R-squared:                  0.998\n",
      "Method:                 Least Squares   F-statistic:                     2022.\n",
      "Date:                Thu, 16 Aug 2018   Prob (F-statistic):           1.72e-19\n",
      "Time:                        15:01:44   Log-Likelihood:                -5.0440\n",
      "No. Observations:                  20   AIC:                             22.09\n",
      "Df Residuals:                      14   BIC:                             28.06\n",
      "Df Model:                           5                                         \n",
      "Covariance Type:            nonrobust                                         \n",
      "==============================================================================\n",
      "                 coef    std err          t      P>|t|      [0.025      0.975]\n",
      "------------------------------------------------------------------------------\n",
      "const          2.3922      0.093     25.728      0.000       2.193       2.592\n",
      "x1             0.9701      0.030     31.995      0.000       0.905       1.035\n",
      "x2             0.5021      0.034     14.902      0.000       0.430       0.574\n",
      "x3            -1.0140      0.034    -29.720      0.000      -1.087      -0.941\n",
      "x4             1.4660      0.027     53.730      0.000       1.407       1.524\n",
      "x5             0.2697      0.036      7.486      0.000       0.192       0.347\n",
      "==============================================================================\n",
      "Omnibus:                        1.143   Durbin-Watson:                   1.659\n",
      "Prob(Omnibus):                  0.565   Jarque-Bera (JB):                0.866\n",
      "Skew:                           0.196   Prob(JB):                        0.648\n",
      "Kurtosis:                       2.058   Cond. No.                         5.05\n",
      "==============================================================================\n",
      "\n",
      "Warnings:\n",
      "[1] Standard Errors assume that the covariance matrix of the errors is correctly specified.\n"
     ]
    }
   ],
   "source": [
    "print(res.summary())"
   ]
  },
  {
   "cell_type": "code",
   "execution_count": null,
   "metadata": {},
   "outputs": [],
   "source": []
  }
 ],
 "metadata": {
  "kernelspec": {
   "display_name": "Python 3",
   "language": "python",
   "name": "python3"
  },
  "language_info": {
   "codemirror_mode": {
    "name": "ipython",
    "version": 3
   },
   "file_extension": ".py",
   "mimetype": "text/x-python",
   "name": "python",
   "nbconvert_exporter": "python",
   "pygments_lexer": "ipython3",
   "version": "3.6.5"
  }
 },
 "nbformat": 4,
 "nbformat_minor": 2
}
