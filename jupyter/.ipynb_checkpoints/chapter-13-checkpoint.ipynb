{
 "cells": [
  {
   "cell_type": "markdown",
   "metadata": {},
   "source": [
    "# While loops\n",
    "\n",
    "Examples from Chapter 13 of <i>Scientific Computation for Hackers: Python and the Jupyter Shell</i>\n",
    "\n",
    "GPL license. "
   ]
  },
  {
   "cell_type": "code",
   "execution_count": 1,
   "metadata": {},
   "outputs": [
    {
     "name": "stdout",
     "output_type": "stream",
     "text": [
      "1,2,3,4,5,"
     ]
    }
   ],
   "source": [
    "i=0\n",
    "while i<5:\n",
    "   i+=1\n",
    "   print(i,end=\",\")"
   ]
  },
  {
   "cell_type": "code",
   "execution_count": 2,
   "metadata": {},
   "outputs": [],
   "source": [
    "a=5\n",
    "x=a\n",
    "epsilon = 0.001         # initialize termination criterion\n",
    "delta = float(\"inf\") "
   ]
  },
  {
   "cell_type": "code",
   "execution_count": 3,
   "metadata": {},
   "outputs": [
    {
     "name": "stdout",
     "output_type": "stream",
     "text": [
      "3.0\n",
      "2.3333333333333335\n",
      "2.238095238095238\n",
      "2.2360688956433634\n",
      "2.236067977499978\n",
      "the square root of  5  is  2.236067977499978\n"
     ]
    }
   ],
   "source": [
    "while delta > epsilon:\n",
    "    xnew=0.5*(x+a/x)    # Babylonian algorithm\n",
    "    delta = abs(xnew-x) # Change in estimate\n",
    "    x=xnew              # Use new estimate for next iteration\n",
    "    print(x)            # print each interation.\n",
    "print(\"the square root of \",a,\" is \", x)"
   ]
  },
  {
   "cell_type": "code",
   "execution_count": 4,
   "metadata": {},
   "outputs": [
    {
     "data": {
      "text/plain": [
       "True"
      ]
     },
     "execution_count": 4,
     "metadata": {},
     "output_type": "execute_result"
    }
   ],
   "source": [
    "big=float(\"inf\")\n",
    "999999999999999999999999<big"
   ]
  },
  {
   "cell_type": "code",
   "execution_count": 5,
   "metadata": {},
   "outputs": [],
   "source": [
    "X,Y = 993, 42993\n",
    "x,y=X,Y;"
   ]
  },
  {
   "cell_type": "code",
   "execution_count": 6,
   "metadata": {},
   "outputs": [
    {
     "name": "stdout",
     "output_type": "stream",
     "text": [
      "42993 993\n",
      "993 294\n",
      "294 111\n",
      "111 72\n",
      "72 39\n",
      "39 33\n",
      "33 6\n",
      "6 3\n",
      "3 0\n",
      "3\n"
     ]
    }
   ],
   "source": [
    "while y!=0:\n",
    "    x, y = y, x % y\n",
    "    print(x, y)\n",
    "print(x)"
   ]
  },
  {
   "cell_type": "code",
   "execution_count": 7,
   "metadata": {},
   "outputs": [
    {
     "data": {
      "text/plain": [
       "3"
      ]
     },
     "execution_count": 7,
     "metadata": {},
     "output_type": "execute_result"
    }
   ],
   "source": [
    "from math import gcd\n",
    "gcd(993,42993)"
   ]
  },
  {
   "cell_type": "code",
   "execution_count": 8,
   "metadata": {},
   "outputs": [
    {
     "name": "stdout",
     "output_type": "stream",
     "text": [
      "0 5 10 15 20 25 "
     ]
    }
   ],
   "source": [
    "i=-1\n",
    "while i <= 25:\n",
    "    i=i+1\n",
    "    if i%5 != 0:\n",
    "        continue\n",
    "    print(i, end=\" \")"
   ]
  },
  {
   "cell_type": "code",
   "execution_count": 9,
   "metadata": {},
   "outputs": [
    {
     "name": "stdout",
     "output_type": "stream",
     "text": [
      "0 5 10 15 20 25 "
     ]
    }
   ],
   "source": [
    "i=0\n",
    "while i <= 25:\n",
    "    print(i,end=\" \")\n",
    "    i=i+5"
   ]
  },
  {
   "cell_type": "code",
   "execution_count": 10,
   "metadata": {},
   "outputs": [
    {
     "name": "stdout",
     "output_type": "stream",
     "text": [
      "3  is prime\n"
     ]
    }
   ],
   "source": [
    "j=2\n",
    "while x > j:\n",
    "    if x%j==0 and j != x:\n",
    "        print(x, \"is not prime\")\n",
    "        break\n",
    "    j = j + 1\n",
    "else:\n",
    "    print(x,\" is prime\")"
   ]
  },
  {
   "cell_type": "code",
   "execution_count": 11,
   "metadata": {},
   "outputs": [
    {
     "name": "stdout",
     "output_type": "stream",
     "text": [
      "2 3 5 7 11 13 17 19 23 29 31 37 41 43 47 53 59 61 67 71 73 79 83 89 97 "
     ]
    }
   ],
   "source": [
    "a=2\n",
    "while a<100:\n",
    "    j=2; x=a; a=a+1\n",
    "    while x > j:\n",
    "        if x%j==0 and j != x:\n",
    "            break\n",
    "        j = j + 1\n",
    "    else:\n",
    "        print (x,end=\" \")"
   ]
  },
  {
   "cell_type": "code",
   "execution_count": null,
   "metadata": {},
   "outputs": [],
   "source": []
  }
 ],
 "metadata": {
  "kernelspec": {
   "display_name": "Python 3",
   "language": "python",
   "name": "python3"
  },
  "language_info": {
   "codemirror_mode": {
    "name": "ipython",
    "version": 3
   },
   "file_extension": ".py",
   "mimetype": "text/x-python",
   "name": "python",
   "nbconvert_exporter": "python",
   "pygments_lexer": "ipython3",
   "version": "3.6.5"
  }
 },
 "nbformat": 4,
 "nbformat_minor": 2
}
