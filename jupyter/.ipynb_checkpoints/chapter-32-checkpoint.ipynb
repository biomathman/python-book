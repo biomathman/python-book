{
 "cells": [
  {
   "cell_type": "markdown",
   "metadata": {},
   "source": [
    "# Statistics\n",
    "\n",
    "Examples from Chapter 32 of <i>Scientific Computation for Hackers: Python and the Jupyter Shell</i>\n",
    "\n",
    "GPL license. "
   ]
  },
  {
   "cell_type": "code",
   "execution_count": 1,
   "metadata": {},
   "outputs": [
    {
     "name": "stdout",
     "output_type": "stream",
     "text": [
      "mean = 503.7  standard deviation =  99.46\n",
      "range:  238.75  to  780.44\n"
     ]
    }
   ],
   "source": [
    "import numpy as np\n",
    "import numpy.random\n",
    "A=100*numpy.random.randn(100)+500\n",
    "print(\"mean =\",round(np.mean(A),2),\\\n",
    "\" standard deviation = \",round(np.std(A),2))\n",
    "print(\"range: \",round(min(A),2),\" to \", round(max(A),2))"
   ]
  },
  {
   "cell_type": "code",
   "execution_count": 2,
   "metadata": {},
   "outputs": [
    {
     "data": {
      "text/plain": [
       "Text(0,0.5,'Percentile')"
      ]
     },
     "execution_count": 2,
     "metadata": {},
     "output_type": "execute_result"
    },
    {
     "data": {
      "image/png": "[encoded data removed]",
      "text/plain": [
       "<matplotlib.figure.Figure at 0x7f30353cffd0>"
      ]
     },
     "metadata": {},
     "output_type": "display_data"
    }
   ],
   "source": [
    "import matplotlib.pyplot as plt\n",
    "%matplotlib inline\n",
    "percentile_values=np.linspace(0,100,300)\n",
    "test_scores=[np.percentile(A,x) for x in percentile_values]\n",
    "plt.plot(test_scores,percentile_values)\n",
    "plt.xlabel(\"Test Score\")\n",
    "plt.ylabel(\"Percentile\")"
   ]
  },
  {
   "cell_type": "code",
   "execution_count": 3,
   "metadata": {},
   "outputs": [
    {
     "data": {
      "text/plain": [
       "(array([ 2,  3,  8, 13, 20, 21, 19,  6,  4,  2]),\n",
       " array([250., 300., 350., 400., 450., 500., 550., 600., 650., 700., 750.]))"
      ]
     },
     "execution_count": 3,
     "metadata": {},
     "output_type": "execute_result"
    }
   ],
   "source": [
    "np.histogram(A, bins=np.linspace(250,750,11))"
   ]
  },
  {
   "cell_type": "code",
   "execution_count": 4,
   "metadata": {},
   "outputs": [],
   "source": [
    "import scipy.stats\n",
    "def zstar(C):\n",
    "    return scipy.stats.norm.isf((1.0-C)/2.)"
   ]
  },
  {
   "cell_type": "code",
   "execution_count": 5,
   "metadata": {},
   "outputs": [],
   "source": [
    "from math import sqrt\n",
    "def confidence_interval(sigma, C, sample):\n",
    "    xbar = np.mean(sample)\n",
    "    n=float(len(sample))\n",
    "    zs = zstar(C)\n",
    "    margin_of_error = zs*sigma/sqrt(n)\n",
    "    return [xbar-margin_of_error, xbar+margin_of_error]"
   ]
  },
  {
   "cell_type": "code",
   "execution_count": 16,
   "metadata": {},
   "outputs": [
    {
     "name": "stdout",
     "output_type": "stream",
     "text": [
      "[481, 502, 494, 508, 509, 509, 495, 493, 497, 511]\n"
     ]
    },
    {
     "data": {
      "text/plain": [
       "DescribeResult(nobs=10, minmax=(481, 511), mean=499.9, variance=92.32222222222221, skewness=-0.5296725606301067, kurtosis=-0.6108676570149818)"
      ]
     },
     "execution_count": 16,
     "metadata": {},
     "output_type": "execute_result"
    }
   ],
   "source": [
    "sample=[int(x) for x in scipy.stats.norm(500,10).rvs(10)]\n",
    "print(sample)\n",
    "scipy.stats.describe(sample)"
   ]
  },
  {
   "cell_type": "code",
   "execution_count": 17,
   "metadata": {},
   "outputs": [
    {
     "data": {
      "text/plain": [
       "[10,\n",
       " (481, 511),\n",
       " 499.9,\n",
       " 92.32222222222221,\n",
       " -0.5296725606301067,\n",
       " -0.6108676570149818]"
      ]
     },
     "execution_count": 17,
     "metadata": {},
     "output_type": "execute_result"
    }
   ],
   "source": [
    "list(scipy.stats.describe(sample))"
   ]
  },
  {
   "cell_type": "code",
   "execution_count": 18,
   "metadata": {},
   "outputs": [
    {
     "name": "stdout",
     "output_type": "stream",
     "text": [
      "A 90% conf. int. is [447.88516121244425, 551.9148387875557]\n",
      "A 95% conf. int. is [437.92049676954383, 561.8795032304562]\n",
      "A 98% conf. int. is [426.3344208814044, 573.4655791185955]\n"
     ]
    }
   ],
   "source": [
    "print(\"A 90% conf. int. is\", confidence_interval(100,.90,sample))\n",
    "print(\"A 95% conf. int. is\", confidence_interval(100,.95,sample))\n",
    "print(\"A 98% conf. int. is\", confidence_interval(100,.98, sample))"
   ]
  },
  {
   "cell_type": "code",
   "execution_count": 19,
   "metadata": {},
   "outputs": [],
   "source": [
    "def peevalue(sigma, mu0, data):\n",
    "    n=round(len(data))\n",
    "    z=(np.mean(data)-mu0)/(sigma/sqrt(n))\n",
    "    p=scipy.stats.norm.sf(z)\n",
    "    return p"
   ]
  },
  {
   "cell_type": "code",
   "execution_count": 25,
   "metadata": {},
   "outputs": [
    {
     "name": "stdout",
     "output_type": "stream",
     "text": [
      "p =  0.022828019066108776\n"
     ]
    }
   ],
   "source": [
    "sample = [514, 718, 609, 545, 605, 508, 466, 435, 575, 657]\n",
    "print(\"p = \", peevalue(100, 500, sample))"
   ]
  },
  {
   "cell_type": "code",
   "execution_count": 26,
   "metadata": {},
   "outputs": [
    {
     "data": {
      "text/plain": [
       "Ttest_1sampResult(statistic=2.2920425673460527, pvalue=0.04761528641815239)"
      ]
     },
     "execution_count": 26,
     "metadata": {},
     "output_type": "execute_result"
    }
   ],
   "source": [
    "scipy.stats.ttest_1samp(sample,500)"
   ]
  },
  {
   "cell_type": "code",
   "execution_count": 29,
   "metadata": {},
   "outputs": [
    {
     "name": "stdout",
     "output_type": "stream",
     "text": [
      "T= 2.2920425673460527 p= 0.04761528641815239\n"
     ]
    }
   ],
   "source": [
    "tstat, pval=list(scipy.stats.ttest_1samp(sample,500))\n",
    "print(\"T=\",tstat,\"p=\",pval)"
   ]
  },
  {
   "cell_type": "code",
   "execution_count": null,
   "metadata": {},
   "outputs": [],
   "source": []
  }
 ],
 "metadata": {
  "kernelspec": {
   "display_name": "Python 3",
   "language": "python",
   "name": "python3"
  },
  "language_info": {
   "codemirror_mode": {
    "name": "ipython",
    "version": 3
   },
   "file_extension": ".py",
   "mimetype": "text/x-python",
   "name": "python",
   "nbconvert_exporter": "python",
   "pygments_lexer": "ipython3",
   "version": "3.6.5"
  }
 },
 "nbformat": 4,
 "nbformat_minor": 2
}
