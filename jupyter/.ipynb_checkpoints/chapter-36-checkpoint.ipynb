{
 "cells": [
  {
   "cell_type": "markdown",
   "metadata": {},
   "source": [
    "# Finding Roots\n",
    "\n",
    "Examples from Chapter 36 of <i>Scientific Computation for Hackers: Python and the Jupyter Shell</i>\n",
    "\n",
    "GPL license. "
   ]
  },
  {
   "cell_type": "code",
   "execution_count": 5,
   "metadata": {},
   "outputs": [],
   "source": [
    "def f(x):\n",
    "    return(x*x-.5)"
   ]
  },
  {
   "cell_type": "code",
   "execution_count": 6,
   "metadata": {},
   "outputs": [],
   "source": [
    "import numpy as np\n",
    "import matplotlib.pyplot as plt\n",
    "%matplotlib inline"
   ]
  },
  {
   "cell_type": "code",
   "execution_count": 9,
   "metadata": {},
   "outputs": [
    {
     "data": {
      "text/plain": [
       "[<matplotlib.lines.Line2D at 0x7ff9bc14a710>]"
      ]
     },
     "execution_count": 9,
     "metadata": {},
     "output_type": "execute_result"
    },
    {
     "data": {
      "image/png": "[encoded data removed]",
      "text/plain": [
       "<matplotlib.figure.Figure at 0x7ff9bc14a3c8>"
      ]
     },
     "metadata": {},
     "output_type": "display_data"
    }
   ],
   "source": [
    "x=np.linspace(0,1,100)\n",
    "y=f(x)\n",
    "plt.plot(x,y)\n",
    "plt.plot([0,1],[0,0],c=\"k\")"
   ]
  },
  {
   "cell_type": "code",
   "execution_count": 10,
   "metadata": {},
   "outputs": [],
   "source": [
    "def bisection(f,a,b,eps=.001,nmax=100,trace=False):\n",
    "    if f(a)==0:\n",
    "        return(a)\n",
    "    elif f(b)==0:\n",
    "        return(b)\n",
    "    if a>b:\n",
    "        a,b=b,a\n",
    "    Delta=0.5*(b-a)\n",
    "    i=0\n",
    "    if f(a)*f(b)>0:\n",
    "        print(\"The points\",a,\"and\",b,\"must have different signs\")\n",
    "        return(None)\n",
    "    while(Delta > eps and i<nmax):\n",
    "        r = a + Delta\n",
    "        if f(r)==0:\n",
    "            return(r)\n",
    "        if f(a)*f(r)<0:\n",
    "            b=r\n",
    "        else:\n",
    "            a=r\n",
    "        Delta = 0.5*(b-a)\n",
    "        i+=1\n",
    "        if trace: print(i, a, b)\n",
    "    return r"
   ]
  },
  {
   "cell_type": "code",
   "execution_count": 13,
   "metadata": {},
   "outputs": [
    {
     "name": "stdout",
     "output_type": "stream",
     "text": [
      "1 0.5 1\n",
      "2 0.5 0.75\n",
      "3 0.625 0.75\n",
      "4 0.6875 0.75\n",
      "5 0.6875 0.71875\n",
      "6 0.703125 0.71875\n",
      "7 0.703125 0.7109375\n",
      "8 0.70703125 0.7109375\n",
      "9 0.70703125 0.708984375\n",
      "10 0.70703125 0.7080078125\n",
      "11 0.70703125 0.70751953125\n",
      "12 0.70703125 0.707275390625\n",
      "13 0.70703125 0.7071533203125\n",
      "14 0.70709228515625 0.7071533203125\n",
      "15 0.70709228515625 0.707122802734375\n",
      "16 0.70709228515625 0.7071075439453125\n"
     ]
    },
    {
     "data": {
      "text/plain": [
       "0.7071075439453125"
      ]
     },
     "execution_count": 13,
     "metadata": {},
     "output_type": "execute_result"
    }
   ],
   "source": [
    "bisection(f,0,1,eps=.00001,trace=True)"
   ]
  },
  {
   "cell_type": "code",
   "execution_count": 2,
   "metadata": {},
   "outputs": [],
   "source": [
    "def naiveFPRoot(f, x0, epsilon, N, PRINT=True):\n",
    "    g = (lambda x : x - f(x))\n",
    "    r=x0;i=0;Delta = float(\"inf\")\n",
    "    while i<N and abs(Delta) > epsilon:\n",
    "        i+=1;  rnew = g(r)\n",
    "        Delta = abs(rnew -r)\n",
    "        r = rnew\n",
    "        if PRINT: print (i, Delta, r)\n",
    "    return r"
   ]
  },
  {
   "cell_type": "code",
   "execution_count": 3,
   "metadata": {},
   "outputs": [
    {
     "name": "stdout",
     "output_type": "stream",
     "text": [
      "1 0.25 0.75\n",
      "2 0.0625 0.6875\n",
      "3 0.02734375 0.71484375\n",
      "4 0.0110015869140625 0.7038421630859375\n",
      "5 0.004606209462508559 0.7084483725484461\n",
      "6 0.001899096566541858 0.7065492759819042\n",
      "7 0.0007881206094469961 0.7073373965913512\n",
      "8 0.00032619261663047183 0.7070112039747207\n",
      "9 0.000135157454215884 0.7071463614289366\n",
      "10 5.597648218425011e-05 0.7070903849467524\n"
     ]
    },
    {
     "data": {
      "text/plain": [
       "0.7070903849467524"
      ]
     },
     "execution_count": 3,
     "metadata": {},
     "output_type": "execute_result"
    }
   ],
   "source": [
    "naiveFPRoot(lambda x:x*x-.5, .5, .0001, 25)"
   ]
  },
  {
   "cell_type": "code",
   "execution_count": 4,
   "metadata": {},
   "outputs": [
    {
     "name": "stdout",
     "output_type": "stream",
     "text": [
      "1 3.5 -1.5\n",
      "2 1.75 -3.25\n",
      "3 10.0625 -13.3125\n",
      "4 176.72265625 -190.03515625\n",
      "5 36112.860610961914 -36302.895767211914\n",
      "6 1317900240.5850527 -1317936543.48082\n",
      "7 1.7369567326421711e+18 -1.7369567339601078e+18\n",
      "8 3.017018695649365e+36 -3.017018695649365e+36\n",
      "9 9.102401809897794e+72 -9.102401809897794e+72\n",
      "10 8.285371870883064e+145 -8.285371870883064e+145\n",
      "11 6.864738703882033e+291 -6.864738703882033e+291\n",
      "12 inf -inf\n",
      "13 nan -inf\n"
     ]
    },
    {
     "data": {
      "text/plain": [
       "-inf"
      ]
     },
     "execution_count": 4,
     "metadata": {},
     "output_type": "execute_result"
    }
   ],
   "source": [
    "naiveFPRoot(lambda x:x*x-.5, 2, 0.0001, 25)"
   ]
  },
  {
   "cell_type": "code",
   "execution_count": null,
   "metadata": {},
   "outputs": [],
   "source": []
  }
 ],
 "metadata": {
  "kernelspec": {
   "display_name": "Python 3",
   "language": "python",
   "name": "python3"
  },
  "language_info": {
   "codemirror_mode": {
    "name": "ipython",
    "version": 3
   },
   "file_extension": ".py",
   "mimetype": "text/x-python",
   "name": "python",
   "nbconvert_exporter": "python",
   "pygments_lexer": "ipython3",
   "version": "3.6.5"
  }
 },
 "nbformat": 4,
 "nbformat_minor": 2
}
