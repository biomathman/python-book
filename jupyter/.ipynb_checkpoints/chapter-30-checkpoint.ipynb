{
 "cells": [
  {
   "cell_type": "markdown",
   "metadata": {},
   "source": [
    "# Classes\n",
    "\n",
    "Examples from Chapter 30 of <i>Scientific Computation for Hackers: Python and the Jupyter Shell</i>\n",
    "\n",
    "GPL license. "
   ]
  },
  {
   "cell_type": "code",
   "execution_count": 1,
   "metadata": {},
   "outputs": [],
   "source": [
    "class vector():\n",
    "    def __init__(self, x, y):\n",
    "        self.x = x\n",
    "        self.y = y\n",
    "        \n",
    "    def length(self):\n",
    "        from math import hypot as mathhypot\n",
    "        return mathhypot(self.x, self.y)\n",
    "\n",
    "    def dot(self,other):\n",
    "        x1=self.x; y1=self.y\n",
    "        x2=other.x; y2=other.y\n",
    "        return x1*x2 + y1*y2"
   ]
  },
  {
   "cell_type": "code",
   "execution_count": 2,
   "metadata": {},
   "outputs": [
    {
     "name": "stdout",
     "output_type": "stream",
     "text": [
      "17 -23.5\n"
     ]
    }
   ],
   "source": [
    "u=vector(17,-23.5)\n",
    "print (u.x,u.y)"
   ]
  },
  {
   "cell_type": "code",
   "execution_count": 3,
   "metadata": {},
   "outputs": [
    {
     "name": "stdout",
     "output_type": "stream",
     "text": [
      "<__main__.vector object at 0x7f5ffd05c3c8>\n"
     ]
    }
   ],
   "source": [
    "print(u)"
   ]
  },
  {
   "cell_type": "code",
   "execution_count": 4,
   "metadata": {},
   "outputs": [
    {
     "data": {
      "text/plain": [
       "<__main__.vector at 0x7f5ffd05c3c8>"
      ]
     },
     "execution_count": 4,
     "metadata": {},
     "output_type": "execute_result"
    }
   ],
   "source": [
    "u"
   ]
  },
  {
   "cell_type": "code",
   "execution_count": 5,
   "metadata": {},
   "outputs": [],
   "source": [
    "class vector():\n",
    "    def __init__(self, x, y):\n",
    "        self.x = x\n",
    "        self.y = y\n",
    "        \n",
    "    def length(self):\n",
    "        from math import hypot as mathhypot\n",
    "        return mathhypot(self.x, self.y)\n",
    "\n",
    "    def dot(self,other):\n",
    "        x1=self.x; y1=self.y\n",
    "        x2=other.x; y2=other.y\n",
    "        return x1*x2 + y1*y2\n",
    "    \n",
    "    def __repr__(self):\n",
    "         return str([self.x,self.y])\n"
   ]
  },
  {
   "cell_type": "code",
   "execution_count": 6,
   "metadata": {},
   "outputs": [],
   "source": [
    "u=vector(3,7)"
   ]
  },
  {
   "cell_type": "code",
   "execution_count": 7,
   "metadata": {},
   "outputs": [
    {
     "name": "stdout",
     "output_type": "stream",
     "text": [
      "[3, 7]\n"
     ]
    }
   ],
   "source": [
    "print(u)"
   ]
  },
  {
   "cell_type": "code",
   "execution_count": 9,
   "metadata": {},
   "outputs": [
    {
     "name": "stdout",
     "output_type": "stream",
     "text": [
      "7.615773105863909\n"
     ]
    }
   ],
   "source": [
    "print(u.length())"
   ]
  },
  {
   "cell_type": "code",
   "execution_count": 10,
   "metadata": {},
   "outputs": [
    {
     "name": "stdout",
     "output_type": "stream",
     "text": [
      "-320.0\n"
     ]
    }
   ],
   "source": [
    "u=vector(17,-23.5)\n",
    "v=vector(-5,10)\n",
    "print(u.dot(v))"
   ]
  },
  {
   "cell_type": "code",
   "execution_count": 11,
   "metadata": {},
   "outputs": [
    {
     "ename": "TypeError",
     "evalue": "unsupported operand type(s) for +: 'vector' and 'vector'",
     "output_type": "error",
     "traceback": [
      "\u001b[0;31m---------------------------------------------------------------------------\u001b[0m",
      "\u001b[0;31mTypeError\u001b[0m                                 Traceback (most recent call last)",
      "\u001b[0;32m<ipython-input-11-0a70757a932f>\u001b[0m in \u001b[0;36m<module>\u001b[0;34m()\u001b[0m\n\u001b[0;32m----> 1\u001b[0;31m \u001b[0mw\u001b[0m\u001b[0;34m=\u001b[0m\u001b[0mu\u001b[0m\u001b[0;34m+\u001b[0m\u001b[0mv\u001b[0m\u001b[0;34m\u001b[0m\u001b[0m\n\u001b[0m",
      "\u001b[0;31mTypeError\u001b[0m: unsupported operand type(s) for +: 'vector' and 'vector'"
     ]
    }
   ],
   "source": [
    "w=u+v"
   ]
  },
  {
   "cell_type": "code",
   "execution_count": 12,
   "metadata": {},
   "outputs": [
    {
     "name": "stdout",
     "output_type": "stream",
     "text": [
      "[12, -13.5] [22, -33.5] [-22, 33.5]\n"
     ]
    }
   ],
   "source": [
    "class vector():\n",
    "    def __init__(self, x, y):\n",
    "        self.x = x\n",
    "        self.y = y\n",
    "        \n",
    "    def length(self):\n",
    "        from math import hypot as mathhypot\n",
    "        return mathhypot(self.x, self.y)\n",
    "\n",
    "    def dot(self,other):\n",
    "        x1=self.x; y1=self.y\n",
    "        x2=other.x; y2=other.y\n",
    "        return x1*x2 + y1*y2\n",
    "    \n",
    "    def __repr__(self):\n",
    "         return str([self.x,self.y])\n",
    "        \n",
    "    def __add__(self,other):\n",
    "        return vector(self.x+other.x, self.y+other.y)\n",
    "    \n",
    "    def __sub__(self,other):\n",
    "        return vector(self.x-other.x, self.y-other.y)\n",
    "\n",
    "u=vector(17,-23.5)\n",
    "v=vector(-5, 10)\n",
    "print(u+v, u-v, v-u)\n",
    "        "
   ]
  },
  {
   "cell_type": "code",
   "execution_count": 13,
   "metadata": {},
   "outputs": [
    {
     "name": "stdout",
     "output_type": "stream",
     "text": [
      "[-21, 35] [-12, -10]\n"
     ]
    }
   ],
   "source": [
    "class vector():\n",
    "    def __init__(self, x, y):\n",
    "        self.x = x\n",
    "        self.y = y\n",
    "        \n",
    "    def length(self):\n",
    "        from math import hypot as mathhypot\n",
    "        return mathhypot(self.x, self.y)\n",
    "\n",
    "    def dot(self,other):\n",
    "        x1=self.x; y1=self.y\n",
    "        x2=other.x; y2=other.y\n",
    "        return x1*x2 + y1*y2\n",
    "    \n",
    "    def __repr__(self):\n",
    "         return str([self.x,self.y])\n",
    "        \n",
    "    def __add__(self,other):\n",
    "        return vector(self.x+other.x, self.y+other.y)\n",
    "    \n",
    "    def __sub__(self,other):\n",
    "        return vector(self.x-other.x, self.y-other.y)\n",
    "    \n",
    "    def __mul__(self,other):\n",
    "        x1=self.x; y1=self.y\n",
    "        x2=other.x; y2=other.y\n",
    "        return vector(x1*y2, -x2*y1)\n",
    "\n",
    "    def __rmul__(self, other):\n",
    "        return vector(other*self.x,other*self.y)\n",
    "u=vector(-3,5)\n",
    "v=vector(2,4)\n",
    "print (7*u, u*v)"
   ]
  },
  {
   "cell_type": "code",
   "execution_count": 14,
   "metadata": {},
   "outputs": [],
   "source": [
    "import scipy.integrate"
   ]
  },
  {
   "cell_type": "code",
   "execution_count": 15,
   "metadata": {},
   "outputs": [
    {
     "name": "stdout",
     "output_type": "stream",
     "text": [
      "99.5\n"
     ]
    }
   ],
   "source": [
    "def p(x):\n",
    "    return 3+x +3*x**2\n",
    "print(scipy.integrate.quad(p,5.,6.)[0])"
   ]
  },
  {
   "cell_type": "code",
   "execution_count": 22,
   "metadata": {},
   "outputs": [],
   "source": [
    "import scipy.integrate\n",
    "import math\n",
    "class FourierCoef():\n",
    "    def __init__(self,f, L, n): # calculate a_n\n",
    "        ell = float(L)\n",
    "        K=float(n)*math.pi/ell\n",
    "        def ga(x): \n",
    "            return f(x)*math.cos(K*x)\n",
    "        def gb(x):\n",
    "            return f(x)*math.sin(K*x)\n",
    "        self.a=scipy.integrate.quad(ga, 0, 2.0*ell)[0]/ell\n",
    "        self.b=scipy.integrate.quad(gb, 0, 2.0*ell)[0]/ell\n",
    "    \n",
    "    def __repr__(self):\n",
    "        return str([self.a, self.b])"
   ]
  },
  {
   "cell_type": "code",
   "execution_count": 23,
   "metadata": {},
   "outputs": [],
   "source": [
    "def f(x):\n",
    "    if x<1:\n",
    "        return 1\n",
    "    else:\n",
    "        return -1"
   ]
  },
  {
   "cell_type": "code",
   "execution_count": 24,
   "metadata": {},
   "outputs": [
    {
     "name": "stdout",
     "output_type": "stream",
     "text": [
      " 0   -1.0000000000    0.0000000000\n",
      " 1    0.6366197724    0.6366197724\n",
      " 2   -0.0000000000    0.6366197724\n",
      " 3   -0.2122065908    0.2122065908\n",
      " 4    0.0000000000    0.0000000000\n",
      " 5    0.1273239545    0.1273239545\n",
      " 6    0.0000000000    0.2122065908\n",
      " 7   -0.0909456818    0.0909456818\n",
      " 8    0.0000000000   -0.0000000000\n",
      " 9    0.0707355303    0.0707355303\n",
      "10    0.0000000000    0.1273239545\n"
     ]
    }
   ],
   "source": [
    "FC=[FourierCoef(f,2,j) for j in range(11)]\n",
    "for j in range(11):\n",
    "    print (\"%2d %15.10f %15.10f\" %(j, FC[j].a, FC[j].b))"
   ]
  },
  {
   "cell_type": "code",
   "execution_count": 25,
   "metadata": {},
   "outputs": [],
   "source": [
    "class FourierSeries():\n",
    "    #\n",
    "    # create fourier series coefficients from 0 to N\n",
    "    #\n",
    "    def __init__(self,f,L,N): # N is Nmax\n",
    "        coefs=[FourierCoef(f,L,j) for j in range(N+1)]\n",
    "        self.a = [FC.a for FC in coefs]\n",
    "        self.b = [FC.b for FC in coefs]\n",
    "        self.K = [k*math.pi/float(L) for k in range(N+1)]\n",
    "    \n",
    "    def value(self,x):\n",
    "        def dot(A,B):\n",
    "            return sum([p*q for p,q in zip(A,B)])\n",
    "        cosvals = [math.cos(K*x) for K in self.K]\n",
    "        sinvals = [math.sin(K*x) for K in self.K]\n",
    "        cosvals[0]=0.5; sinvals[0]=0\n",
    "        return dot(self.a, cosvals) + dot(self.b,sinvals)\t"
   ]
  },
  {
   "cell_type": "code",
   "execution_count": 27,
   "metadata": {},
   "outputs": [
    {
     "data": {
      "text/plain": [
       "[<matplotlib.lines.Line2D at 0x7f5fc3fef828>]"
      ]
     },
     "execution_count": 27,
     "metadata": {},
     "output_type": "execute_result"
    },
    {
     "data": {
      "image/png": "[encoded data removed]",
      "text/plain": [
       "<matplotlib.figure.Figure at 0x7f5fc3fbffd0>"
      ]
     },
     "metadata": {},
     "output_type": "display_data"
    }
   ],
   "source": [
    "import numpy as np\n",
    "import matplotlib.pyplot as plt\n",
    "%matplotlib inline\n",
    "xvals = np.linspace(0,6,500)\n",
    "F=FourierSeries(f,1.5,25)\n",
    "yvals = [F.value(x) for x in xvals]\n",
    "plt.plot(xvals,yvals, c=\"k\")"
   ]
  },
  {
   "cell_type": "code",
   "execution_count": null,
   "metadata": {},
   "outputs": [],
   "source": []
  }
 ],
 "metadata": {
  "kernelspec": {
   "display_name": "Python 3",
   "language": "python",
   "name": "python3"
  },
  "language_info": {
   "codemirror_mode": {
    "name": "ipython",
    "version": 3
   },
   "file_extension": ".py",
   "mimetype": "text/x-python",
   "name": "python",
   "nbconvert_exporter": "python",
   "pygments_lexer": "ipython3",
   "version": "3.6.5"
  }
 },
 "nbformat": 4,
 "nbformat_minor": 2
}
