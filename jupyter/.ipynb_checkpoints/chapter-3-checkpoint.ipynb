{
 "cells": [
  {
   "cell_type": "markdown",
   "metadata": {},
   "source": [
    "# The Babylonian Algorithm\n",
    "\n",
    "Examples in Chapter 3 of <i>Scientific Computation for Hackers: Python and the Jupyter Shell</i>\n",
    "\n",
    "GPL license. "
   ]
  },
  {
   "cell_type": "code",
   "execution_count": 2,
   "metadata": {},
   "outputs": [
    {
     "name": "stdout",
     "output_type": "stream",
     "text": [
      "1 13.5\n",
      "2 7.712962962962963\n",
      "3 5.541955671157352\n",
      "4 5.116720163987656\n",
      "5 5.099050130180595\n",
      "6 5.099019513684702\n"
     ]
    }
   ],
   "source": [
    "a=26\n",
    "tolerance=0.001\n",
    "x = a\n",
    "Delta = float(\"inf\")\n",
    "i=0\n",
    "while (Delta>tolerance and i<100):\n",
    "    i+=1\n",
    "    xnew = 0.5*(x+a/x)\n",
    "    Delta = abs(xnew-x)\n",
    "    x=xnew\n",
    "    print(i,xnew)"
   ]
  },
  {
   "cell_type": "code",
   "execution_count": null,
   "metadata": {},
   "outputs": [],
   "source": []
  }
 ],
 "metadata": {
  "kernelspec": {
   "display_name": "Python 3",
   "language": "python",
   "name": "python3"
  },
  "language_info": {
   "codemirror_mode": {
    "name": "ipython",
    "version": 3
   },
   "file_extension": ".py",
   "mimetype": "text/x-python",
   "name": "python",
   "nbconvert_exporter": "python",
   "pygments_lexer": "ipython3",
   "version": "3.6.5"
  }
 },
 "nbformat": 4,
 "nbformat_minor": 2
}
