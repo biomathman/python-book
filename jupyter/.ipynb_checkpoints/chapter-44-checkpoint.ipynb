{
 "cells": [
  {
   "cell_type": "markdown",
   "metadata": {},
   "source": [
    "# PCA\n",
    "\n",
    "Examples from Chapter 44 of <i>Scientific Computation for Hackers: Python and the Jupyter Shell</i>\n",
    "\n",
    "GPL license. "
   ]
  },
  {
   "cell_type": "code",
   "execution_count": 11,
   "metadata": {},
   "outputs": [],
   "source": [
    "import csv\n",
    "import numpy as np"
   ]
  },
  {
   "cell_type": "code",
   "execution_count": 12,
   "metadata": {},
   "outputs": [],
   "source": [
    "with open('gas-elect.csv', \"r\") as csvfile:\n",
    "    datafile = csv.reader(csvfile, delimiter=',')\n",
    "    g=[];e=[]\n",
    "    for row in datafile:\n",
    "        gas,elec=row\n",
    "        gas=float(gas); elec=float(elec)\n",
    "        try:\n",
    "            g.append(gas); e.append(elec)\n",
    "        except:\n",
    "            continue\n",
    "X=np.array([g,e]).T"
   ]
  },
  {
   "cell_type": "code",
   "execution_count": 14,
   "metadata": {},
   "outputs": [],
   "source": [
    "def centerArray(M):\n",
    "    mu = np.mean(M, 0)\n",
    "    return M-mu"
   ]
  },
  {
   "cell_type": "code",
   "execution_count": 15,
   "metadata": {},
   "outputs": [
    {
     "name": "stdout",
     "output_type": "stream",
     "text": [
      "[[-1.32008333e+00 -2.99166667e-02]\n",
      " [-1.24008333e+00 -2.99166667e-02]\n",
      " [-1.14608333e+00 -2.99166667e-02]\n",
      " [-1.07908333e+00 -2.99166667e-02]\n",
      " [-9.03083333e-01 -2.79166667e-02]\n",
      " [-8.71083333e-01 -2.19166667e-02]\n",
      " [-9.73083333e-01 -2.19166667e-02]\n",
      " [-1.01408333e+00 -2.09166667e-02]\n",
      " [-1.02108333e+00 -2.19166667e-02]\n",
      " [-8.83083333e-01 -2.69166667e-02]\n",
      " [-9.02083333e-01 -2.89166667e-02]\n",
      " [-1.03008333e+00 -2.89166667e-02]\n",
      " [-1.08908333e+00 -2.69166667e-02]\n",
      " [-9.94083333e-01 -2.69166667e-02]\n",
      " [-8.47083333e-01 -2.69166667e-02]\n",
      " [-6.29083333e-01 -2.59166667e-02]\n",
      " [-6.96083333e-01 -2.39166667e-02]\n",
      " [-7.36083333e-01 -1.69166667e-02]\n",
      " [-5.96083333e-01 -1.59166667e-02]\n",
      " [-4.06083333e-01 -1.59166667e-02]\n",
      " [ 1.49166667e-02 -1.49166667e-02]\n",
      " [-1.27083333e-01 -1.89166667e-02]\n",
      " [-5.69083333e-01 -1.89166667e-02]\n",
      " [-7.26083333e-01 -1.89166667e-02]\n",
      " [-5.97083333e-01 -1.29166667e-02]\n",
      " [-6.02083333e-01 -1.29166667e-02]\n",
      " [-5.11083333e-01 -1.19166667e-02]\n",
      " [-1.55083333e-01 -1.19166667e-02]\n",
      " [ 3.49166667e-02 -1.09166667e-02]\n",
      " [ 4.91666667e-03 -2.91666667e-03]\n",
      " [ 8.69166667e-02 -2.91666667e-03]\n",
      " [ 7.29166667e-02 -2.91666667e-03]\n",
      " [-3.23083333e-01 -2.91666667e-03]\n",
      " [-6.40083333e-01 -8.91666667e-03]\n",
      " [-6.71083333e-01 -1.09166667e-02]\n",
      " [-5.78083333e-01 -1.09166667e-02]\n",
      " [-6.38083333e-01 -7.91666667e-03]\n",
      " [-6.27083333e-01 -7.91666667e-03]\n",
      " [-3.20083333e-01 -7.91666667e-03]\n",
      " [-5.20833333e-02 -7.91666667e-03]\n",
      " [ 2.17916667e-01 -5.91666667e-03]\n",
      " [ 1.39916667e-01  1.08333333e-03]\n",
      " [ 4.89166667e-02  1.08333333e-03]\n",
      " [-1.30083333e-01  8.33333333e-05]\n",
      " [-1.23083333e-01  8.33333333e-05]\n",
      " [-1.19083333e-01 -3.91666667e-03]\n",
      " [ 1.56916667e-01 -5.91666667e-03]\n",
      " [ 1.07916667e-01 -5.91666667e-03]\n",
      " [ 1.34916667e-01 -4.91666667e-03]\n",
      " [ 1.20916667e-01 -4.91666667e-03]\n",
      " [ 3.45916667e-01 -4.91666667e-03]\n",
      " [ 5.28916667e-01 -2.91666667e-03]\n",
      " [ 8.51916667e-01 -9.16666667e-04]\n",
      " [ 1.15291667e+00  7.08333333e-03]\n",
      " [ 1.17791667e+00  1.00833333e-02]\n",
      " [ 8.73916667e-01  1.10833333e-02]\n",
      " [ 7.85916667e-01  9.08333333e-03]\n",
      " [ 2.60916667e-01  5.08333333e-03]\n",
      " [-7.61083333e-01  2.08333333e-03]\n",
      " [-1.22308333e+00  3.08333333e-03]\n",
      " [-1.12508333e+00  5.08333333e-03]\n",
      " [-9.84083333e-01  5.08333333e-03]\n",
      " [-9.63083333e-01  5.08333333e-03]\n",
      " [-8.56083333e-01  4.08333333e-03]\n",
      " [-6.47083333e-01  5.08333333e-03]\n",
      " [-2.81083333e-01  1.10833333e-02]\n",
      " [-3.69083333e-01  1.00833333e-02]\n",
      " [-2.85083333e-01  9.08333333e-03]\n",
      " [-3.38083333e-01  9.08333333e-03]\n",
      " [-3.51083333e-01  5.08333333e-03]\n",
      " [-2.52083333e-01  3.08333333e-03]\n",
      " [-2.91083333e-01  3.08333333e-03]\n",
      " [-1.81083333e-01  3.08333333e-03]\n",
      " [-2.53083333e-01  2.08333333e-03]\n",
      " [-1.32083333e-01  4.08333333e-03]\n",
      " [-5.40833333e-02  5.08333333e-03]\n",
      " [-4.30833333e-02  6.08333333e-03]\n",
      " [-1.76083333e-01  1.10833333e-02]\n",
      " [-1.76083333e-01  1.20833333e-02]\n",
      " [-1.67083333e-01  1.20833333e-02]\n",
      " [-2.08083333e-01  1.10833333e-02]\n",
      " [-1.17083333e-01  6.08333333e-03]\n",
      " [-6.00833333e-02  4.08333333e-03]\n",
      " [ 7.29166667e-02  4.08333333e-03]\n",
      " [ 1.78916667e-01  4.08333333e-03]\n",
      " [ 2.54916667e-01  4.08333333e-03]\n",
      " [ 6.33916667e-01  6.08333333e-03]\n",
      " [ 9.03916667e-01  6.08333333e-03]\n",
      " [ 1.02091667e+00  8.08333333e-03]\n",
      " [ 7.89916667e-01  1.30833333e-02]\n",
      " [ 7.41916667e-01  1.40833333e-02]\n",
      " [ 7.17916667e-01  1.40833333e-02]\n",
      " [ 6.99916667e-01  1.40833333e-02]\n",
      " [ 5.55916667e-01  9.08333333e-03]\n",
      " [ 5.10916667e-01  7.08333333e-03]\n",
      " [ 3.65916667e-01  6.08333333e-03]\n",
      " [ 4.86916667e-01  7.08333333e-03]\n",
      " [ 6.59916667e-01  7.08333333e-03]\n",
      " [ 9.55916667e-01  6.08333333e-03]\n",
      " [ 1.01491667e+00  6.08333333e-03]\n",
      " [ 8.79916667e-01  8.08333333e-03]\n",
      " [ 6.39916667e-01  1.40833333e-02]\n",
      " [ 5.38916667e-01  1.20833333e-02]\n",
      " [ 7.94916667e-01  1.20833333e-02]\n",
      " [ 9.43916667e-01  1.20833333e-02]\n",
      " [ 8.73916667e-01  7.08333333e-03]\n",
      " [ 5.75916667e-01  6.08333333e-03]\n",
      " [ 4.18916667e-01  6.08333333e-03]\n",
      " [ 4.38916667e-01  8.08333333e-03]\n",
      " [ 7.80916667e-01  8.08333333e-03]\n",
      " [ 8.22916667e-01  7.08333333e-03]\n",
      " [ 6.77916667e-01  7.08333333e-03]\n",
      " [ 7.10916667e-01  1.00833333e-02]\n",
      " [ 7.20916667e-01  1.60833333e-02]\n",
      " [ 7.15916667e-01  1.60833333e-02]\n",
      " [ 6.87916667e-01  1.60833333e-02]\n",
      " [ 6.43916667e-01  1.60833333e-02]\n",
      " [ 4.62916667e-01  1.10833333e-02]\n",
      " [ 3.38916667e-01  9.08333333e-03]\n",
      " [ 3.64916667e-01  1.00833333e-02]\n",
      " [ 4.07916667e-01  1.30833333e-02]\n",
      " [ 4.51916667e-01  1.30833333e-02]\n",
      " [ 6.19916667e-01  1.40833333e-02]\n",
      " [ 7.46916667e-01  1.00833333e-02]\n",
      " [ 7.78916667e-01  1.50833333e-02]\n",
      " [ 7.82916667e-01  2.20833333e-02]\n",
      " [ 7.20916667e-01  2.20833333e-02]\n",
      " [ 5.68916667e-01  2.20833333e-02]\n",
      " [ 4.90916667e-01  2.00833333e-02]\n",
      " [ 2.69916667e-01  1.50833333e-02]\n",
      " [-2.50833333e-02  1.30833333e-02]\n",
      " [-3.52083333e-01  1.40833333e-02]]\n"
     ]
    }
   ],
   "source": [
    "X=centerArray(X)\n",
    "print(X)"
   ]
  },
  {
   "cell_type": "code",
   "execution_count": 16,
   "metadata": {},
   "outputs": [
    {
     "name": "stdout",
     "output_type": "stream",
     "text": [
      "The first PC is  [0.99988131 0.01540671]\n",
      "The second PC is  [-0.01540671  0.99988131]\n"
     ]
    }
   ],
   "source": [
    "U, S, V=np.linalg.svd(X)\n",
    "print(\"The first PC is \", V[0])\n",
    "print(\"The second PC is \", V[1])"
   ]
  },
  {
   "cell_type": "code",
   "execution_count": 27,
   "metadata": {},
   "outputs": [
    {
     "data": {
      "image/png": "[encoded data removed]",
      "text/plain": [
       "<matplotlib.figure.Figure at 0x7f7c8cc9dcc0>"
      ]
     },
     "metadata": {},
     "output_type": "display_data"
    }
   ],
   "source": [
    "import matplotlib.pyplot as plt\n",
    "%matplotlib inline\n",
    "PC=V[0]\n",
    "mug = np.average(g)\n",
    "mue = np.average(e)\n",
    "center=np.array([mug,mue])\n",
    "\n",
    "P=center - 3*PC\n",
    "Q=center + 3*PC\n",
    "\n",
    "plt.plot([P[0],Q[0]], [P[1],Q[1]], color=\"k\",linewidth=3) \n",
    "plt.scatter(g,e)\n",
    "plt.xlim(1,4.5);"
   ]
  },
  {
   "cell_type": "code",
   "execution_count": 28,
   "metadata": {},
   "outputs": [],
   "source": [
    "rawdata=np.array([[8.3, -41.0, 28.7],[ 6.5, -38.5, 29.5],\n",
    "                  [0.5, -39.2, 28.6],[ 1.6, -41.8, 28.0],\n",
    "                  [5.0, -37.6, 30.0],[-0.1, -40.3, 28.1],\n",
    "                  [6.1, -42.2, 28.2]])"
   ]
  },
  {
   "cell_type": "code",
   "execution_count": 29,
   "metadata": {},
   "outputs": [
    {
     "data": {
      "text/plain": [
       "array([[ 4.31, -0.91, -0.03],\n",
       "       [ 2.51,  1.59,  0.77],\n",
       "       [-3.49,  0.89, -0.13],\n",
       "       [-2.39, -1.71, -0.73],\n",
       "       [ 1.01,  2.49,  1.27],\n",
       "       [-4.09, -0.21, -0.63],\n",
       "       [ 2.11, -2.11, -0.53]])"
      ]
     },
     "execution_count": 29,
     "metadata": {},
     "output_type": "execute_result"
    }
   ],
   "source": [
    "X=centerArray(rawdata)\n",
    "np.round(X,2)"
   ]
  },
  {
   "cell_type": "code",
   "execution_count": 30,
   "metadata": {},
   "outputs": [
    {
     "data": {
      "text/plain": [
       "array([[-4.27, -1.09, -0.12],\n",
       "       [-2.61,  1.62, -0.09],\n",
       "       [ 3.47,  0.97, -0.1 ],\n",
       "       [ 2.48, -1.73,  0.17],\n",
       "       [-1.18,  2.72,  0.19],\n",
       "       [ 4.13, -0.21, -0.11],\n",
       "       [-2.01, -2.27,  0.06]])"
      ]
     },
     "execution_count": 30,
     "metadata": {},
     "output_type": "execute_result"
    }
   ],
   "source": [
    "U, S, V = np.linalg.svd(X)\n",
    "np.round(np.dot(X, V.T),2)"
   ]
  },
  {
   "cell_type": "code",
   "execution_count": 31,
   "metadata": {},
   "outputs": [
    {
     "data": {
      "text/plain": [
       "array([[ 4.27, -1.09],\n",
       "       [ 2.61,  1.62],\n",
       "       [-3.47,  0.97],\n",
       "       [-2.48, -1.73],\n",
       "       [ 1.18,  2.72],\n",
       "       [-4.13, -0.21],\n",
       "       [ 2.01, -2.27]])"
      ]
     },
     "execution_count": 31,
     "metadata": {},
     "output_type": "execute_result"
    }
   ],
   "source": [
    "from sklearn.decomposition import PCA\n",
    "pca = PCA(n_components=2)\n",
    "np.round(pca.fit_transform(X),2)"
   ]
  },
  {
   "cell_type": "code",
   "execution_count": 32,
   "metadata": {},
   "outputs": [
    {
     "data": {
      "text/plain": [
       "array([[ 4.27, -1.09, -0.12],\n",
       "       [ 2.61,  1.62, -0.09],\n",
       "       [-3.47,  0.97, -0.1 ],\n",
       "       [-2.48, -1.73,  0.17],\n",
       "       [ 1.18,  2.72,  0.19],\n",
       "       [-4.13, -0.21, -0.11],\n",
       "       [ 2.01, -2.27,  0.06]])"
      ]
     },
     "execution_count": 32,
     "metadata": {},
     "output_type": "execute_result"
    }
   ],
   "source": [
    "from sklearn.decomposition import PCA\n",
    "pca = PCA(n_components=3)\n",
    "np.round(pca.fit_transform(X),2)"
   ]
  },
  {
   "cell_type": "code",
   "execution_count": 33,
   "metadata": {},
   "outputs": [
    {
     "data": {
      "text/plain": [
       "array([0.76254115, 0.23613593, 0.00132292])"
      ]
     },
     "execution_count": 33,
     "metadata": {},
     "output_type": "execute_result"
    }
   ],
   "source": [
    "pca.explained_variance_ratio_"
   ]
  },
  {
   "cell_type": "code",
   "execution_count": null,
   "metadata": {},
   "outputs": [],
   "source": []
  }
 ],
 "metadata": {
  "kernelspec": {
   "display_name": "Python 3",
   "language": "python",
   "name": "python3"
  },
  "language_info": {
   "codemirror_mode": {
    "name": "ipython",
    "version": 3
   },
   "file_extension": ".py",
   "mimetype": "text/x-python",
   "name": "python",
   "nbconvert_exporter": "python",
   "pygments_lexer": "ipython3",
   "version": "3.6.5"
  }
 },
 "nbformat": 4,
 "nbformat_minor": 2
}
