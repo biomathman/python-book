{
 "cells": [
  {
   "cell_type": "markdown",
   "metadata": {},
   "source": [
    "# Functions\n",
    "\n",
    "Examples from Chapter 18 of <i>Scientific Computation for Hackers: Python and the Jupyter Shell</i>\n",
    "\n",
    "GPL license."
   ]
  },
  {
   "cell_type": "code",
   "execution_count": 1,
   "metadata": {},
   "outputs": [],
   "source": [
    "def f(x):\n",
    "    return x**2+7"
   ]
  },
  {
   "cell_type": "code",
   "execution_count": 3,
   "metadata": {},
   "outputs": [
    {
     "name": "stdout",
     "output_type": "stream",
     "text": [
      "16 407 27529114568\n"
     ]
    }
   ],
   "source": [
    "y=f(3); z=f(y+4); w=f(f(z)+f(y))\n",
    "print(y,x,w)"
   ]
  },
  {
   "cell_type": "code",
   "execution_count": 5,
   "metadata": {},
   "outputs": [
    {
     "data": {
      "text/plain": [
       "165656"
      ]
     },
     "execution_count": 5,
     "metadata": {},
     "output_type": "execute_result"
    }
   ],
   "source": [
    "f(z)"
   ]
  },
  {
   "cell_type": "code",
   "execution_count": 6,
   "metadata": {},
   "outputs": [
    {
     "data": {
      "text/plain": [
       "263"
      ]
     },
     "execution_count": 6,
     "metadata": {},
     "output_type": "execute_result"
    }
   ],
   "source": [
    "f(y)"
   ]
  },
  {
   "cell_type": "code",
   "execution_count": 7,
   "metadata": {},
   "outputs": [
    {
     "data": {
      "text/plain": [
       "165919"
      ]
     },
     "execution_count": 7,
     "metadata": {},
     "output_type": "execute_result"
    }
   ],
   "source": [
    "f(z)+f(y)"
   ]
  },
  {
   "cell_type": "code",
   "execution_count": 9,
   "metadata": {},
   "outputs": [
    {
     "data": {
      "text/plain": [
       "27529114568"
      ]
     },
     "execution_count": 9,
     "metadata": {},
     "output_type": "execute_result"
    }
   ],
   "source": [
    "7+(f(z)+f(y))**2"
   ]
  },
  {
   "cell_type": "code",
   "execution_count": 10,
   "metadata": {},
   "outputs": [],
   "source": [
    "def next_iteration(x,a):\n",
    "    return 0.5*(x+a/x)"
   ]
  },
  {
   "cell_type": "code",
   "execution_count": 11,
   "metadata": {},
   "outputs": [
    {
     "name": "stdout",
     "output_type": "stream",
     "text": [
      "2.5 1.5\n",
      "2.05 0.4500000000000002\n",
      "2.000609756097561 0.04939024390243896\n",
      "2.0000000929222947 0.0006096631752661175\n",
      "2.000000000000002 9.292229252721995e-08\n",
      "2.0 2.220446049250313e-15\n"
     ]
    }
   ],
   "source": [
    "a = 4.0\n",
    "xold = a\n",
    "error = float(\"inf\")\n",
    "while error > 10**-10:\n",
    "    x=next_iteration(xold, a)\n",
    "    error = abs(x-xold)\n",
    "    xold = x\n",
    "    print(x, error)"
   ]
  },
  {
   "cell_type": "code",
   "execution_count": 12,
   "metadata": {},
   "outputs": [
    {
     "name": "stdout",
     "output_type": "stream",
     "text": [
      "5.0 4.0\n",
      "3.4 1.6\n",
      "3.023529411764706 0.3764705882352941\n",
      "3.00009155413138 0.02343785763332562\n",
      "3.000000001396984 9.155273439631628e-05\n",
      "3.0 1.3969838619232178e-09\n",
      "3.0 0.0\n",
      "the square root of 9.0 is 3.0\n"
     ]
    }
   ],
   "source": [
    "def find_root(a, err):\n",
    "    xold = a\n",
    "    error = float(\"inf\")\n",
    "    while error > err:\n",
    "        x=next_iteration(xold, a)\n",
    "        error = abs(x-xold)\n",
    "        xold = x\n",
    "        print(x, error)\n",
    "    return x\n",
    "a=9.0\n",
    "s=find_root(a,10**-10)\n",
    "print(\"the square root of\",a,\"is\",s)"
   ]
  },
  {
   "cell_type": "code",
   "execution_count": 13,
   "metadata": {},
   "outputs": [],
   "source": [
    "def find_root(a, err=10**-10, debug=False):\n",
    "    xold = a\n",
    "    error = float(\"inf\")\n",
    "    while error > err:\n",
    "        x=next_iteration(xold, a)\n",
    "        error = abs(x-xold)\n",
    "        xold = x\n",
    "        if debug: print(x, error)\n",
    "    return x"
   ]
  },
  {
   "cell_type": "code",
   "execution_count": 14,
   "metadata": {},
   "outputs": [
    {
     "data": {
      "text/plain": [
       "4.123105625617661"
      ]
     },
     "execution_count": 14,
     "metadata": {},
     "output_type": "execute_result"
    }
   ],
   "source": [
    "find_root(17.0)"
   ]
  },
  {
   "cell_type": "code",
   "execution_count": 15,
   "metadata": {},
   "outputs": [
    {
     "name": "stdout",
     "output_type": "stream",
     "text": [
      "9.0 8.0\n",
      "5.444444444444445 3.5555555555555554\n",
      "4.28344671201814 1.1609977324263046\n",
      "4.126106627581331 0.15734008443680914\n",
      "4.123106716962795 0.0029999106185361057\n",
      "4.123105625617805 1.0913449894900396e-06\n",
      "4.123105625617661 1.4477308241112041e-13\n"
     ]
    },
    {
     "data": {
      "text/plain": [
       "4.123105625617661"
      ]
     },
     "execution_count": 15,
     "metadata": {},
     "output_type": "execute_result"
    }
   ],
   "source": [
    "find_root(17.0,debug=True)"
   ]
  },
  {
   "cell_type": "code",
   "execution_count": 18,
   "metadata": {},
   "outputs": [
    {
     "name": "stdout",
     "output_type": "stream",
     "text": [
      " 1 1.00000\n",
      " 2 1.41421\n",
      " 3 1.73205\n",
      " 4 2.00000\n",
      " 5 2.23607\n",
      " 6 2.44949\n",
      " 7 2.64575\n",
      " 8 2.82843\n",
      " 9 3.00000\n",
      "10 3.16228\n",
      "11 3.31662\n",
      "12 3.46410\n",
      "13 3.60555\n",
      "14 3.74166\n",
      "15 3.87298\n",
      "16 4.00000\n",
      "17 4.12311\n",
      "18 4.24264\n",
      "19 4.35890\n",
      "20 4.47214\n",
      "21 4.58258\n",
      "22 4.69042\n",
      "23 4.79583\n",
      "24 4.89898\n",
      "25 5.00000\n"
     ]
    }
   ],
   "source": [
    "for i in range(1,26):\n",
    "    print(\"%2d %7.5f\" %(i, find_root(i)))"
   ]
  },
  {
   "cell_type": "code",
   "execution_count": 20,
   "metadata": {},
   "outputs": [
    {
     "name": "stdout",
     "output_type": "stream",
     "text": [
      "babyalgpackage.py  babyalg.py  spam.py\r\n"
     ]
    }
   ],
   "source": [
    "ls *.py"
   ]
  },
  {
   "cell_type": "code",
   "execution_count": 34,
   "metadata": {},
   "outputs": [],
   "source": [
    "from babpack import findaroot"
   ]
  },
  {
   "cell_type": "code",
   "execution_count": 36,
   "metadata": {},
   "outputs": [
    {
     "name": "stdout",
     "output_type": "stream",
     "text": [
      "2.0 1.0\n",
      "1.75 0.25\n",
      "1.7321428571428572 0.017857142857142794\n",
      "1.7320508100147274 9.204712812982407e-05\n",
      "1.7320508075688772 2.44585018904786e-09\n",
      "1.7320508075688772 0.0\n"
     ]
    },
    {
     "data": {
      "text/plain": [
       "1.7320508075688772"
      ]
     },
     "execution_count": 36,
     "metadata": {},
     "output_type": "execute_result"
    }
   ],
   "source": [
    "findaroot(3,debug=True)"
   ]
  },
  {
   "cell_type": "code",
   "execution_count": 37,
   "metadata": {},
   "outputs": [
    {
     "ename": "NameError",
     "evalue": "name 'fiaroot' is not defined",
     "output_type": "error",
     "traceback": [
      "\u001b[0;31m---------------------------------------------------------------------------\u001b[0m",
      "\u001b[0;31mNameError\u001b[0m                                 Traceback (most recent call last)",
      "\u001b[0;32m<ipython-input-37-afdb73de5445>\u001b[0m in \u001b[0;36m<module>\u001b[0;34m()\u001b[0m\n\u001b[0;32m----> 1\u001b[0;31m \u001b[0mfiaroot\u001b[0m\u001b[0;34m(\u001b[0m\u001b[0;36m36\u001b[0m\u001b[0;34m)\u001b[0m\u001b[0;34m\u001b[0m\u001b[0m\n\u001b[0m",
      "\u001b[0;31mNameError\u001b[0m: name 'fiaroot' is not defined"
     ]
    }
   ],
   "source": [
    "fiaroot(36)"
   ]
  },
  {
   "cell_type": "code",
   "execution_count": null,
   "metadata": {},
   "outputs": [],
   "source": []
  }
 ],
 "metadata": {
  "kernelspec": {
   "display_name": "Python 3",
   "language": "python",
   "name": "python3"
  },
  "language_info": {
   "codemirror_mode": {
    "name": "ipython",
    "version": 3
   },
   "file_extension": ".py",
   "mimetype": "text/x-python",
   "name": "python",
   "nbconvert_exporter": "python",
   "pygments_lexer": "ipython3",
   "version": "3.6.5"
  }
 },
 "nbformat": 4,
 "nbformat_minor": 2
}
